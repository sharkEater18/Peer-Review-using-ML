{
 "cells": [
  {
   "cell_type": "code",
   "execution_count": 2,
   "id": "40c1a903-835b-455e-b582-58fa11bac9cc",
   "metadata": {},
   "outputs": [],
   "source": [
    "import warnings\n",
    "warnings.filterwarnings('ignore')"
   ]
  },
  {
   "cell_type": "code",
   "execution_count": 3,
   "id": "ffcbbda7-9a03-49f6-85e7-b800771685de",
   "metadata": {
    "tags": []
   },
   "outputs": [],
   "source": [
    "import numpy as np\n",
    "import matplotlib.pyplot as plt\n",
    "import pandas as pd"
   ]
  },
  {
   "cell_type": "code",
   "execution_count": 4,
   "id": "1b9a08f5-75dc-427a-8b05-334ffa0ee6e5",
   "metadata": {},
   "outputs": [],
   "source": [
    "train_df = pd.read_csv('data/train.csv',delimiter=',',header=None,names=['text','label'])\n",
    "val_df = pd.read_csv('data/validation.csv',delimiter=',',header=None,names=['text','label'])"
   ]
  },
  {
   "cell_type": "code",
   "execution_count": 5,
   "id": "7c247de3-7458-4baf-bddd-a4c015ef0e65",
   "metadata": {},
   "outputs": [
    {
     "name": "stdout",
     "output_type": "stream",
     "text": [
      "(16800, 2)\n",
      "(11200, 2)\n"
     ]
    }
   ],
   "source": [
    "print(train_df.shape)\n",
    "print(val_df.shape)"
   ]
  },
  {
   "cell_type": "code",
   "execution_count": 6,
   "id": "b7f4a1ae-c8ed-4d3c-b0df-f85aadb74e3f",
   "metadata": {},
   "outputs": [],
   "source": [
    "import re\n",
    "import nltk\n",
    "from nltk.corpus import stopwords\n",
    "from nltk.stem.porter import PorterStemmer\n",
    "from nltk.stem.wordnet import WordNetLemmatizer\n",
    "def clean(data):\n",
    "    corpus = []\n",
    "    rows = data.shape[0]\n",
    "    for i in range(0, rows):\n",
    "        title = re.sub('[^a-zA-Z]', ' ', data['text'][i])\n",
    "        title = title.lower()\n",
    "        title = title.split()\n",
    "        all_stopwords = stopwords.words('english')\n",
    "        title = ' '.join(title)\n",
    "        corpus.append(title)\n",
    "    return corpus"
   ]
  },
  {
   "cell_type": "code",
   "execution_count": 7,
   "id": "c95fb765-18ba-40ba-8306-93cb113eff4d",
   "metadata": {},
   "outputs": [],
   "source": [
    "corpus_train = clean(train_df)\n",
    "corpus_val = clean(val_df)"
   ]
  },
  {
   "cell_type": "code",
   "execution_count": 8,
   "id": "f01d4337-be07-42a9-b2a9-dead438cbea9",
   "metadata": {},
   "outputs": [],
   "source": [
    "train_df['text'] = corpus_train\n",
    "train_df.label = train_df.label.apply({'CL':0,'CR':1,'DC':2,'DS':3,'LO':4, 'NI':5, 'SE':6}.get)\n",
    "val_df['text'] = corpus_val\n",
    "val_df.label = val_df.label.apply({'CL':0,'CR':1,'DC':2,'DS':3,'LO':4, 'NI':5, 'SE':6}.get)"
   ]
  },
  {
   "cell_type": "code",
   "execution_count": 9,
   "id": "68804ba5-aaa1-4ea3-996e-108c3f9afb4d",
   "metadata": {},
   "outputs": [
    {
     "data": {
      "text/html": [
       "<div>\n",
       "<style scoped>\n",
       "    .dataframe tbody tr th:only-of-type {\n",
       "        vertical-align: middle;\n",
       "    }\n",
       "\n",
       "    .dataframe tbody tr th {\n",
       "        vertical-align: top;\n",
       "    }\n",
       "\n",
       "    .dataframe thead th {\n",
       "        text-align: right;\n",
       "    }\n",
       "</style>\n",
       "<table border=\"1\" class=\"dataframe\">\n",
       "  <thead>\n",
       "    <tr style=\"text-align: right;\">\n",
       "      <th></th>\n",
       "      <th>text</th>\n",
       "      <th>label</th>\n",
       "    </tr>\n",
       "  </thead>\n",
       "  <tbody>\n",
       "    <tr>\n",
       "      <th>0</th>\n",
       "      <td>we extend to natural deduction the approach of...</td>\n",
       "      <td>4</td>\n",
       "    </tr>\n",
       "    <tr>\n",
       "      <th>1</th>\n",
       "      <td>over the last decade the ieee has emerged as t...</td>\n",
       "      <td>5</td>\n",
       "    </tr>\n",
       "    <tr>\n",
       "      <th>2</th>\n",
       "      <td>motivated by the problem of storing coloured d...</td>\n",
       "      <td>3</td>\n",
       "    </tr>\n",
       "    <tr>\n",
       "      <th>3</th>\n",
       "      <td>we consider the downlink of a cellular system ...</td>\n",
       "      <td>5</td>\n",
       "    </tr>\n",
       "    <tr>\n",
       "      <th>4</th>\n",
       "      <td>meroitic is the still undeciphered language of...</td>\n",
       "      <td>0</td>\n",
       "    </tr>\n",
       "  </tbody>\n",
       "</table>\n",
       "</div>"
      ],
      "text/plain": [
       "                                                text  label\n",
       "0  we extend to natural deduction the approach of...      4\n",
       "1  over the last decade the ieee has emerged as t...      5\n",
       "2  motivated by the problem of storing coloured d...      3\n",
       "3  we consider the downlink of a cellular system ...      5\n",
       "4  meroitic is the still undeciphered language of...      0"
      ]
     },
     "execution_count": 9,
     "metadata": {},
     "output_type": "execute_result"
    }
   ],
   "source": [
    "train_df.head()"
   ]
  },
  {
   "cell_type": "code",
   "execution_count": 10,
   "id": "04bbcc7e-69ed-40fa-a851-f9c420560dea",
   "metadata": {},
   "outputs": [
    {
     "data": {
      "text/html": [
       "<div>\n",
       "<style scoped>\n",
       "    .dataframe tbody tr th:only-of-type {\n",
       "        vertical-align: middle;\n",
       "    }\n",
       "\n",
       "    .dataframe tbody tr th {\n",
       "        vertical-align: top;\n",
       "    }\n",
       "\n",
       "    .dataframe thead th {\n",
       "        text-align: right;\n",
       "    }\n",
       "</style>\n",
       "<table border=\"1\" class=\"dataframe\">\n",
       "  <thead>\n",
       "    <tr style=\"text-align: right;\">\n",
       "      <th></th>\n",
       "      <th>text</th>\n",
       "      <th>label</th>\n",
       "    </tr>\n",
       "  </thead>\n",
       "  <tbody>\n",
       "    <tr>\n",
       "      <th>0</th>\n",
       "      <td>manne et al designed the first algorithm compu...</td>\n",
       "      <td>2</td>\n",
       "    </tr>\n",
       "    <tr>\n",
       "      <th>1</th>\n",
       "      <td>we consider the challenge of creating guidelin...</td>\n",
       "      <td>6</td>\n",
       "    </tr>\n",
       "    <tr>\n",
       "      <th>2</th>\n",
       "      <td>network virtualization techniques allow for th...</td>\n",
       "      <td>5</td>\n",
       "    </tr>\n",
       "    <tr>\n",
       "      <th>3</th>\n",
       "      <td>in the min k cut problem input is an edge weig...</td>\n",
       "      <td>3</td>\n",
       "    </tr>\n",
       "    <tr>\n",
       "      <th>4</th>\n",
       "      <td>we introduce the notion of being weihrauch com...</td>\n",
       "      <td>4</td>\n",
       "    </tr>\n",
       "  </tbody>\n",
       "</table>\n",
       "</div>"
      ],
      "text/plain": [
       "                                                text  label\n",
       "0  manne et al designed the first algorithm compu...      2\n",
       "1  we consider the challenge of creating guidelin...      6\n",
       "2  network virtualization techniques allow for th...      5\n",
       "3  in the min k cut problem input is an edge weig...      3\n",
       "4  we introduce the notion of being weihrauch com...      4"
      ]
     },
     "execution_count": 10,
     "metadata": {},
     "output_type": "execute_result"
    }
   ],
   "source": [
    "val_df.head()"
   ]
  },
  {
   "cell_type": "code",
   "execution_count": 11,
   "id": "b3318863-b8fd-489e-8d47-758475bd3e80",
   "metadata": {},
   "outputs": [],
   "source": [
    "from sklearn.model_selection import train_test_split\n",
    "X = val_df['text']\n",
    "y = val_df['label']\n",
    "X_val, X_test, y_val, y_test = train_test_split(X, y, test_size = 0.5, random_state = 42)"
   ]
  },
  {
   "cell_type": "code",
   "execution_count": 12,
   "id": "92d2ceb3-7cfa-4c33-9d68-afb48bc7013a",
   "metadata": {},
   "outputs": [],
   "source": [
    "test_df=pd.concat([X_test, y_test], axis=1)"
   ]
  },
  {
   "cell_type": "code",
   "execution_count": 13,
   "id": "20ba1084-dbb6-41b0-9285-b9de90d57450",
   "metadata": {},
   "outputs": [
    {
     "data": {
      "text/html": [
       "<div>\n",
       "<style scoped>\n",
       "    .dataframe tbody tr th:only-of-type {\n",
       "        vertical-align: middle;\n",
       "    }\n",
       "\n",
       "    .dataframe tbody tr th {\n",
       "        vertical-align: top;\n",
       "    }\n",
       "\n",
       "    .dataframe thead th {\n",
       "        text-align: right;\n",
       "    }\n",
       "</style>\n",
       "<table border=\"1\" class=\"dataframe\">\n",
       "  <thead>\n",
       "    <tr style=\"text-align: right;\">\n",
       "      <th></th>\n",
       "      <th>text</th>\n",
       "      <th>label</th>\n",
       "    </tr>\n",
       "  </thead>\n",
       "  <tbody>\n",
       "    <tr>\n",
       "      <th>3532</th>\n",
       "      <td>we show the np completeness of the existential...</td>\n",
       "      <td>4</td>\n",
       "    </tr>\n",
       "    <tr>\n",
       "      <th>2899</th>\n",
       "      <td>with rapid advancements in sensing networking ...</td>\n",
       "      <td>5</td>\n",
       "    </tr>\n",
       "    <tr>\n",
       "      <th>3822</th>\n",
       "      <td>the problem of oblivious ram oram has traditio...</td>\n",
       "      <td>1</td>\n",
       "    </tr>\n",
       "    <tr>\n",
       "      <th>5846</th>\n",
       "      <td>secure multi party computation is widely studi...</td>\n",
       "      <td>1</td>\n",
       "    </tr>\n",
       "    <tr>\n",
       "      <th>9036</th>\n",
       "      <td>in this paper we first presented an analytical...</td>\n",
       "      <td>5</td>\n",
       "    </tr>\n",
       "  </tbody>\n",
       "</table>\n",
       "</div>"
      ],
      "text/plain": [
       "                                                   text  label\n",
       "3532  we show the np completeness of the existential...      4\n",
       "2899  with rapid advancements in sensing networking ...      5\n",
       "3822  the problem of oblivious ram oram has traditio...      1\n",
       "5846  secure multi party computation is widely studi...      1\n",
       "9036  in this paper we first presented an analytical...      5"
      ]
     },
     "execution_count": 13,
     "metadata": {},
     "output_type": "execute_result"
    }
   ],
   "source": [
    "test_df.head()"
   ]
  },
  {
   "cell_type": "code",
   "execution_count": 14,
   "id": "5ae97897-5e6d-4896-8fa8-e33305e3300a",
   "metadata": {},
   "outputs": [],
   "source": [
    "# For validation using K-Fold Cross Validation\n",
    "text = np.array(val_df['text'])\n",
    "label = np.array(val_df['label'])"
   ]
  },
  {
   "cell_type": "code",
   "execution_count": 15,
   "id": "e8c78bc5-cc76-4cc2-bef3-09e13e6f70db",
   "metadata": {},
   "outputs": [],
   "source": [
    "text_train = train_df['text']\n",
    "text_test = test_df['text']\n",
    "label_train = train_df['label']\n",
    "label_test = test_df['label']"
   ]
  },
  {
   "cell_type": "code",
   "execution_count": 16,
   "id": "fb5f1118-065e-4551-b791-1807802359ce",
   "metadata": {},
   "outputs": [],
   "source": [
    "from sklearn.feature_extraction.text import CountVectorizer, TfidfVectorizer, HashingVectorizer\n",
    "## Build Bag-Of-Words on train texts\n",
    "cv = CountVectorizer(stop_words='english',max_features=1000000)\n",
    "cv_train_features = cv.fit_transform(text_train)\n",
    "\n",
    "# build TFIDF features on train reviews\n",
    "tv = TfidfVectorizer(min_df=0.0, max_df=1.0, ngram_range=(1,2),\n",
    "                     sublinear_tf=True)\n",
    "tv_train_features = tv.fit_transform(text_train)\n",
    "\n",
    "# build HashingVectorizer on train datas\n",
    "hv = HashingVectorizer()\n",
    "hv_train_features = hv.fit_transform(text_train)"
   ]
  },
  {
   "cell_type": "code",
   "execution_count": 17,
   "id": "e6d3aaed-f161-40ca-8fb2-845900811eb5",
   "metadata": {},
   "outputs": [],
   "source": [
    "# transform test reviews into features\n",
    "cv_test_features = cv.transform(text_test)\n",
    "tv_test_features = tv.transform(text_test)\n",
    "hv_test_features = hv.transform(text_test)"
   ]
  },
  {
   "cell_type": "code",
   "execution_count": 18,
   "id": "0f020120-5254-42fa-8347-f91b203de2ed",
   "metadata": {},
   "outputs": [
    {
     "name": "stdout",
     "output_type": "stream",
     "text": [
      "BOW model:> Train features shape: (16800, 37634)  Test features shape: (5600, 37634)\n",
      "TFIDF model:> Train features shape: (16800, 752632)  Test features shape: (5600, 752632)\n",
      "HV model:> Train features shape: (16800, 1048576)  Test features shape: (5600, 1048576)\n"
     ]
    }
   ],
   "source": [
    "print('BOW model:> Train features shape:', cv_train_features.shape, ' Test features shape:', cv_test_features.shape)\n",
    "print('TFIDF model:> Train features shape:', tv_train_features.shape, ' Test features shape:', tv_test_features.shape)\n",
    "print('HV model:> Train features shape:', hv_train_features.shape, ' Test features shape:', hv_test_features.shape)"
   ]
  },
  {
   "cell_type": "code",
   "execution_count": 19,
   "id": "dd0ed323-92cf-4454-857d-7243a87cb4a3",
   "metadata": {},
   "outputs": [],
   "source": [
    "# Report for all models\n",
    "from collections import defaultdict\n",
    "scores = defaultdict(lambda: [0] * 4)"
   ]
  },
  {
   "cell_type": "code",
   "execution_count": 20,
   "id": "f7ccb8f8-9732-4171-9212-594f6413137d",
   "metadata": {},
   "outputs": [],
   "source": [
    "####Evaluation metrics\n",
    "from sklearn import metrics\n",
    "from sklearn.preprocessing import LabelEncoder\n",
    "from sklearn.base import clone\n",
    "from sklearn.preprocessing import label_binarize\n",
    "from scipy import interp\n",
    "from sklearn.metrics import roc_curve, auc \n",
    "from sklearn.model_selection import cross_val_score\n",
    "import seaborn as sns\n",
    "\n",
    "\n",
    "def fetch_scores(classifier_name ,true_labels, predicted_labels):\n",
    "    scores[classifier_name][0]=(np.round(metrics.accuracy_score(true_labels, predicted_labels), 4))\n",
    "    scores[classifier_name][1]=(np.round(metrics.precision_score(true_labels, predicted_labels, average='weighted'), 4))\n",
    "    scores[classifier_name][2]=(np.round(metrics.recall_score(true_labels, predicted_labels, average='weighted'), 4))\n",
    "    scores[classifier_name][3]=(np.round(metrics.f1_score(true_labels, predicted_labels, average='weighted'), 4))\n",
    "    \n",
    "\n",
    "def get_metrics(true_labels, predicted_labels):\n",
    "    \n",
    "    print('Accuracy:', np.round(\n",
    "                        metrics.accuracy_score(true_labels, \n",
    "                                               predicted_labels),\n",
    "                        4))\n",
    "    print('Precision:', np.round(\n",
    "                        metrics.precision_score(true_labels, \n",
    "                                               predicted_labels,\n",
    "                                               average='weighted'),\n",
    "                        4))\n",
    "    print('Recall:', np.round(\n",
    "                        metrics.recall_score(true_labels, \n",
    "                                               predicted_labels,\n",
    "                                               average='weighted'),\n",
    "                        4))\n",
    "    print('F1 Score:', np.round(\n",
    "                        metrics.f1_score(true_labels, \n",
    "                                               predicted_labels,\n",
    "                                               average='weighted'),\n",
    "                        4))\n",
    "                        \n",
    "\n",
    "def train_predict_model(classifier, \n",
    "                        train_features, train_labels, \n",
    "                        test_features, test_labels):\n",
    "    # build model    \n",
    "    classifier.fit(train_features, train_labels)\n",
    "    # predict using model\n",
    "    predictions = classifier.predict(test_features) \n",
    "    return predictions    \n",
    "\n",
    "\n",
    "def cross_validate_model(classifier, \n",
    "                        text, label, k=5):\n",
    "    print('\\nModel Validation Report:')\n",
    "    print('-'*30)\n",
    "    # build model    \n",
    "    classifier.fit(text, label)\n",
    "    # validate the model\n",
    "    scores = cross_val_score(classifier, text, label, cv=k)\n",
    "    for i in range(len(scores)):\n",
    "        print('Fold', i + 1,':', np.round(scores[i], 2))\n",
    "    print('\\nMin Score:', np.round(np.array(scores).min(), 4))\n",
    "    print('Max Score:', np.round(np.array(scores).max(), 4))\n",
    "    print('Mean Score:', np.round(np.array(scores).mean(), 4))\n",
    "\n",
    "\n",
    "def display_confusion_matrix(true_labels, predicted_labels, classes=[1,0]):\n",
    "    \n",
    "    total_classes = len(classes)\n",
    "    level_labels = [total_classes*[0], list(range(total_classes))]\n",
    "\n",
    "    cm = metrics.confusion_matrix(y_true=true_labels, y_pred=predicted_labels, \n",
    "                                  labels=classes)\n",
    "    \n",
    "    labels = classes\n",
    "    print(cm)\n",
    "    fig = plt.figure()\n",
    "    ax = fig.add_subplot(111)\n",
    "    cax = ax.matshow(cm)\n",
    "    plt.title('Confusion matrix of the classifier')\n",
    "    fig.colorbar(cax)\n",
    "    ax.set_xticklabels([''] + labels)\n",
    "    ax.set_yticklabels([''] + labels)\n",
    "    plt.xlabel('Predicted')\n",
    "    plt.ylabel('True')\n",
    "    plt.show()\n",
    "    \n",
    "    \n",
    "def display_classification_report(true_labels, predicted_labels, classes=[1,0]):\n",
    "\n",
    "    report = metrics.classification_report(y_true=true_labels, \n",
    "                                           y_pred=predicted_labels, \n",
    "                                           labels=classes) \n",
    "    print(report)\n",
    "    \n",
    "    \n",
    "    \n",
    "def display_model_performance_metrics(true_labels, predicted_labels, classes=[1,0]):\n",
    "    print('Model Performance metrics:')\n",
    "    print('-'*30)\n",
    "    get_metrics(true_labels=true_labels, predicted_labels=predicted_labels)\n",
    "    print('\\nModel Classification report:')\n",
    "    print('-'*30)\n",
    "    display_classification_report(true_labels=true_labels, predicted_labels=predicted_labels, \n",
    "                                  classes=classes)\n",
    "    print('\\nPrediction Confusion Matrix:')\n",
    "    print('-'*30)\n",
    "    display_confusion_matrix(true_labels=true_labels, predicted_labels=predicted_labels, \n",
    "                             classes=classes)\n"
   ]
  },
  {
   "cell_type": "markdown",
   "id": "0c8a2032-5c0c-499e-a9a5-b83926243757",
   "metadata": {},
   "source": [
    "# Logistic Regression"
   ]
  },
  {
   "cell_type": "code",
   "execution_count": 21,
   "id": "5a2638a8-67a2-435a-aba1-bddf201e5f2e",
   "metadata": {},
   "outputs": [],
   "source": [
    "from sklearn.linear_model import LogisticRegression\n",
    "lr = LogisticRegression(penalty='l2', max_iter=100, C=1)"
   ]
  },
  {
   "cell_type": "markdown",
   "id": "4448b401-1dc0-4bf8-aa08-cf4ad39c3a04",
   "metadata": {},
   "source": [
    "## 1) BOW Model"
   ]
  },
  {
   "cell_type": "code",
   "execution_count": 22,
   "id": "92f2d574-267d-49b5-9a22-7a7920290b34",
   "metadata": {},
   "outputs": [
    {
     "name": "stdout",
     "output_type": "stream",
     "text": [
      "Model Performance metrics:\n",
      "------------------------------\n",
      "Accuracy: 0.8979\n",
      "Precision: 0.8981\n",
      "Recall: 0.8979\n",
      "F1 Score: 0.8977\n",
      "\n",
      "Model Classification report:\n",
      "------------------------------\n",
      "              precision    recall  f1-score   support\n",
      "\n",
      "           0       0.96      0.98      0.97       934\n",
      "           1       0.91      0.86      0.88       946\n",
      "           2       0.82      0.81      0.81       647\n",
      "           3       0.91      0.93      0.92       891\n",
      "           4       0.91      0.91      0.91       615\n",
      "           5       0.89      0.88      0.89       919\n",
      "           6       0.84      0.90      0.87       648\n",
      "\n",
      "    accuracy                           0.90      5600\n",
      "   macro avg       0.89      0.89      0.89      5600\n",
      "weighted avg       0.90      0.90      0.90      5600\n",
      "\n",
      "\n",
      "Prediction Confusion Matrix:\n",
      "------------------------------\n",
      "[[914   4   0   1   7   1   7]\n",
      " [  4 809  21  15  13  43  41]\n",
      " [  1  19 522  33   4  43  25]\n",
      " [  8   5  32 828  13   4   1]\n",
      " [  4   4   6  13 562   2  24]\n",
      " [  7  32  40  13   2 813  12]\n",
      " [ 11  13  19   5  16   4 580]]\n"
     ]
    },
    {
     "data": {
      "image/png": "[encoded data removed]",
      "text/plain": [
       "<Figure size 432x288 with 2 Axes>"
      ]
     },
     "metadata": {
      "needs_background": "light"
     },
     "output_type": "display_data"
    },
    {
     "name": "stdout",
     "output_type": "stream",
     "text": [
      "\n",
      "Model Validation Report:\n",
      "------------------------------\n",
      "Fold 1 : 0.9\n",
      "Fold 2 : 0.9\n",
      "Fold 3 : 0.9\n",
      "Fold 4 : 0.89\n",
      "Fold 5 : 0.89\n",
      "Fold 6 : 0.88\n",
      "Fold 7 : 0.89\n",
      "Fold 8 : 0.88\n",
      "Fold 9 : 0.89\n",
      "Fold 10 : 0.89\n",
      "\n",
      "Min Score: 0.8821\n",
      "Max Score: 0.9027\n",
      "Mean Score: 0.8923\n"
     ]
    }
   ],
   "source": [
    "# Logistic Regression model on BOW features\n",
    "lr_bow_predictions = train_predict_model(classifier=lr, \n",
    "                                             train_features=cv_train_features, train_labels=label_train,\n",
    "                                             test_features=cv_test_features, test_labels=label_test)\n",
    "\n",
    "display_model_performance_metrics(true_labels=label_test, predicted_labels=lr_bow_predictions,\n",
    "                                      classes=[0,1,2,3,4,5,6])\n",
    "\n",
    "fetch_scores(classifier_name = 'Logistic Regression (CV)', true_labels=label_test, \n",
    "                                     predicted_labels=lr_bow_predictions)\n",
    "\n",
    "cross_validate_model(classifier=lr, text=cv.fit_transform(text), label=label, k=10)"
   ]
  },
  {
   "cell_type": "markdown",
   "id": "c0ccde92-c063-4947-94ad-aa283aa5ed43",
   "metadata": {},
   "source": [
    "## 2) TF-IDF Model"
   ]
  },
  {
   "cell_type": "code",
   "execution_count": 23,
   "id": "5d272931-920e-402d-831e-ad861c8dec7b",
   "metadata": {},
   "outputs": [
    {
     "name": "stdout",
     "output_type": "stream",
     "text": [
      "Model Performance metrics:\n",
      "------------------------------\n",
      "Accuracy: 0.9161\n",
      "Precision: 0.9158\n",
      "Recall: 0.9161\n",
      "F1 Score: 0.9155\n",
      "\n",
      "Model Classification report:\n",
      "------------------------------\n",
      "              precision    recall  f1-score   support\n",
      "\n",
      "           0       0.98      0.98      0.98       934\n",
      "           1       0.93      0.89      0.91       946\n",
      "           2       0.87      0.79      0.83       647\n",
      "           3       0.90      0.96      0.93       891\n",
      "           4       0.92      0.93      0.93       615\n",
      "           5       0.91      0.92      0.92       919\n",
      "           6       0.89      0.91      0.90       648\n",
      "\n",
      "    accuracy                           0.92      5600\n",
      "   macro avg       0.91      0.91      0.91      5600\n",
      "weighted avg       0.92      0.92      0.92      5600\n",
      "\n",
      "\n",
      "Prediction Confusion Matrix:\n",
      "------------------------------\n",
      "[[915   2   0   2   9   0   6]\n",
      " [  4 842  13  12  14  35  26]\n",
      " [  2  19 510  55   5  38  18]\n",
      " [  1   5  22 853   2   8   0]\n",
      " [  3   4   6  13 574   1  14]\n",
      " [  2  26  22  12   0 849   8]\n",
      " [ 11  12  13   3  19   3 587]]\n"
     ]
    },
    {
     "data": {
      "image/png": "[encoded data removed]",
      "text/plain": [
       "<Figure size 432x288 with 2 Axes>"
      ]
     },
     "metadata": {
      "needs_background": "light"
     },
     "output_type": "display_data"
    },
    {
     "name": "stdout",
     "output_type": "stream",
     "text": [
      "\n",
      "Model Validation Report:\n",
      "------------------------------\n",
      "Fold 1 : 0.91\n",
      "Fold 2 : 0.91\n",
      "Fold 3 : 0.91\n",
      "Fold 4 : 0.9\n",
      "Fold 5 : 0.9\n",
      "Fold 6 : 0.89\n",
      "Fold 7 : 0.9\n",
      "Fold 8 : 0.9\n",
      "Fold 9 : 0.91\n",
      "Fold 10 : 0.91\n",
      "\n",
      "Min Score: 0.8893\n",
      "Max Score: 0.9143\n",
      "Mean Score: 0.9036\n"
     ]
    }
   ],
   "source": [
    "# Logistic Regression model on TF-IDF features\n",
    "lr_tfidf_predictions = train_predict_model(classifier=lr, \n",
    "                                               train_features=tv_train_features, train_labels=label_train,\n",
    "                                               test_features=tv_test_features, test_labels=label_test)\n",
    "\n",
    "display_model_performance_metrics(true_labels=label_test, predicted_labels=lr_tfidf_predictions,\n",
    "                                      classes=[0,1,2,3,4,5,6])\n",
    "\n",
    "fetch_scores(classifier_name = 'Logistic Regression (TF-IDF)', true_labels=label_test, \n",
    "                                     predicted_labels=lr_tfidf_predictions)\n",
    "\n",
    "cross_validate_model(classifier=lr, text=tv.fit_transform(text), label=label, k=10)"
   ]
  },
  {
   "cell_type": "markdown",
   "id": "cbd77c5d-6bbd-45bc-ad20-b3d9cdae363a",
   "metadata": {},
   "source": [
    "## 3) HashingVectorizer Model"
   ]
  },
  {
   "cell_type": "code",
   "execution_count": 24,
   "id": "7611e95b-c879-48b8-8922-d44ad80a071b",
   "metadata": {},
   "outputs": [
    {
     "name": "stdout",
     "output_type": "stream",
     "text": [
      "Model Performance metrics:\n",
      "------------------------------\n",
      "Accuracy: 0.8938\n",
      "Precision: 0.8936\n",
      "Recall: 0.8938\n",
      "F1 Score: 0.8933\n",
      "\n",
      "Model Classification report:\n",
      "------------------------------\n",
      "              precision    recall  f1-score   support\n",
      "\n",
      "           0       0.96      0.97      0.97       934\n",
      "           1       0.91      0.85      0.88       946\n",
      "           2       0.82      0.77      0.80       647\n",
      "           3       0.88      0.94      0.91       891\n",
      "           4       0.90      0.90      0.90       615\n",
      "           5       0.89      0.91      0.90       919\n",
      "           6       0.85      0.87      0.86       648\n",
      "\n",
      "    accuracy                           0.89      5600\n",
      "   macro avg       0.89      0.89      0.89      5600\n",
      "weighted avg       0.89      0.89      0.89      5600\n",
      "\n",
      "\n",
      "Prediction Confusion Matrix:\n",
      "------------------------------\n",
      "[[908   3   0   5  10   0   8]\n",
      " [  4 807  23  17  15  43  37]\n",
      " [  2  20 501  55   8  39  22]\n",
      " [  3   7  27 834   9   9   2]\n",
      " [  5   4   7  19 555   3  22]\n",
      " [  2  29  30  13   1 836   8]\n",
      " [ 17  19  21   4  18   5 564]]\n"
     ]
    },
    {
     "data": {
      "image/png": "[encoded data removed]",
      "text/plain": [
       "<Figure size 432x288 with 2 Axes>"
      ]
     },
     "metadata": {
      "needs_background": "light"
     },
     "output_type": "display_data"
    },
    {
     "name": "stdout",
     "output_type": "stream",
     "text": [
      "\n",
      "Model Validation Report:\n",
      "------------------------------\n",
      "Fold 1 : 0.88\n",
      "Fold 2 : 0.89\n",
      "Fold 3 : 0.88\n",
      "Fold 4 : 0.88\n",
      "Fold 5 : 0.87\n",
      "Fold 6 : 0.86\n",
      "Fold 7 : 0.87\n",
      "Fold 8 : 0.88\n",
      "Fold 9 : 0.87\n",
      "Fold 10 : 0.88\n",
      "\n",
      "Min Score: 0.8616\n",
      "Max Score: 0.892\n",
      "Mean Score: 0.8775\n"
     ]
    }
   ],
   "source": [
    "# LR model on HashingVectorizer\n",
    "lr_hsh_predictions = train_predict_model(classifier=lr, \n",
    "                                             train_features=hv_train_features, train_labels=label_train,\n",
    "                                             test_features=hv_test_features, test_labels=label_test)\n",
    "\n",
    "display_model_performance_metrics(true_labels=label_test, predicted_labels=lr_hsh_predictions,\n",
    "                                      classes=[0,1,2,3,4,5,6])\n",
    "\n",
    "fetch_scores(classifier_name = 'Logistic Regression (HV)', true_labels=label_test, \n",
    "                                     predicted_labels=lr_hsh_predictions)\n",
    "\n",
    "cross_validate_model(classifier=lr, text=hv.fit_transform(text), label=label, k=10)"
   ]
  },
  {
   "cell_type": "markdown",
   "id": "23cda5d0-8fa4-4df7-a061-86f3f8f3be24",
   "metadata": {},
   "source": [
    "# SGD"
   ]
  },
  {
   "cell_type": "code",
   "execution_count": 25,
   "id": "051ebda0-716c-4a9d-b090-a455a987bded",
   "metadata": {},
   "outputs": [],
   "source": [
    "from sklearn.linear_model import SGDClassifier\n",
    "sgd = SGDClassifier(loss='hinge')"
   ]
  },
  {
   "cell_type": "markdown",
   "id": "298d2d56-adb0-4366-9d7c-97947a4280d2",
   "metadata": {},
   "source": [
    "## 1) BOW Model"
   ]
  },
  {
   "cell_type": "code",
   "execution_count": 26,
   "id": "8de28374-2f89-4449-b35b-34e1aac0b65f",
   "metadata": {},
   "outputs": [
    {
     "name": "stdout",
     "output_type": "stream",
     "text": [
      "Model Performance metrics:\n",
      "------------------------------\n",
      "Accuracy: 0.8891\n",
      "Precision: 0.8899\n",
      "Recall: 0.8891\n",
      "F1 Score: 0.8892\n",
      "\n",
      "Model Classification report:\n",
      "------------------------------\n",
      "              precision    recall  f1-score   support\n",
      "\n",
      "           0       0.97      0.97      0.97       934\n",
      "           1       0.91      0.86      0.88       946\n",
      "           2       0.79      0.80      0.79       647\n",
      "           3       0.90      0.92      0.91       891\n",
      "           4       0.89      0.89      0.89       615\n",
      "           5       0.89      0.87      0.88       919\n",
      "           6       0.83      0.89      0.86       648\n",
      "\n",
      "    accuracy                           0.89      5600\n",
      "   macro avg       0.88      0.89      0.88      5600\n",
      "weighted avg       0.89      0.89      0.89      5600\n",
      "\n",
      "\n",
      "Prediction Confusion Matrix:\n",
      "------------------------------\n",
      "[[905   3   3   4   8   1  10]\n",
      " [  5 809  31  14  15  37  35]\n",
      " [  1  23 515  36   6  42  24]\n",
      " [  4   4  33 824  15   8   3]\n",
      " [  5   5   7  14 546   3  35]\n",
      " [  5  33  46  16   6 802  11]\n",
      " [  8  13  20   5  16   8 578]]\n"
     ]
    },
    {
     "data": {
      "image/png": "[encoded data removed]",
      "text/plain": [
       "<Figure size 432x288 with 2 Axes>"
      ]
     },
     "metadata": {
      "needs_background": "light"
     },
     "output_type": "display_data"
    },
    {
     "name": "stdout",
     "output_type": "stream",
     "text": [
      "\n",
      "Model Validation Report:\n",
      "------------------------------\n",
      "Fold 1 : 0.89\n",
      "Fold 2 : 0.88\n",
      "Fold 3 : 0.88\n",
      "Fold 4 : 0.89\n",
      "Fold 5 : 0.89\n",
      "Fold 6 : 0.88\n",
      "Fold 7 : 0.89\n",
      "Fold 8 : 0.89\n",
      "Fold 9 : 0.89\n",
      "Fold 10 : 0.89\n",
      "\n",
      "Min Score: 0.8768\n",
      "Max Score: 0.8902\n",
      "Mean Score: 0.8863\n"
     ]
    }
   ],
   "source": [
    "# SGD model on Countvectorizer\n",
    "sgd_bow_predictions = train_predict_model(classifier=sgd, \n",
    "                                             train_features=cv_train_features, train_labels=label_train,\n",
    "                                             test_features=cv_test_features, test_labels=label_test)\n",
    "\n",
    "display_model_performance_metrics(true_labels=label_test, predicted_labels=sgd_bow_predictions,\n",
    "                                      classes=[0,1,2,3,4,5,6])\n",
    "\n",
    "fetch_scores(classifier_name = 'Stochastic Gradient Descent (CV)', true_labels=label_test, \n",
    "                                     predicted_labels=sgd_bow_predictions)\n",
    "\n",
    "cross_validate_model(classifier=sgd, text=cv.fit_transform(text), label=label, k=10)"
   ]
  },
  {
   "cell_type": "markdown",
   "id": "d71a0986-d94d-426c-9290-fb4265a374ba",
   "metadata": {},
   "source": [
    "## TF-IDF Model"
   ]
  },
  {
   "cell_type": "code",
   "execution_count": 27,
   "id": "070e900f-a55d-4e70-8b94-1d33519a83f4",
   "metadata": {},
   "outputs": [
    {
     "name": "stdout",
     "output_type": "stream",
     "text": [
      "Model Performance metrics:\n",
      "------------------------------\n",
      "Accuracy: 0.9239\n",
      "Precision: 0.9235\n",
      "Recall: 0.9239\n",
      "F1 Score: 0.9234\n",
      "\n",
      "Model Classification report:\n",
      "------------------------------\n",
      "              precision    recall  f1-score   support\n",
      "\n",
      "           0       0.98      0.98      0.98       934\n",
      "           1       0.92      0.91      0.91       946\n",
      "           2       0.89      0.81      0.85       647\n",
      "           3       0.92      0.96      0.94       891\n",
      "           4       0.92      0.94      0.93       615\n",
      "           5       0.92      0.92      0.92       919\n",
      "           6       0.90      0.91      0.91       648\n",
      "\n",
      "    accuracy                           0.92      5600\n",
      "   macro avg       0.92      0.92      0.92      5600\n",
      "weighted avg       0.92      0.92      0.92      5600\n",
      "\n",
      "\n",
      "Prediction Confusion Matrix:\n",
      "------------------------------\n",
      "[[919   1   0   1   7   0   6]\n",
      " [  3 860  12  10  13  28  20]\n",
      " [  1  23 523  42   3  37  18]\n",
      " [  1   6  19 856   5   4   0]\n",
      " [  4   4   4  11 581   0  11]\n",
      " [  4  31  19   9   2 847   7]\n",
      " [ 10  10  12   2  22   4 588]]\n"
     ]
    },
    {
     "data": {
      "image/png": "[encoded data removed]",
      "text/plain": [
       "<Figure size 432x288 with 2 Axes>"
      ]
     },
     "metadata": {
      "needs_background": "light"
     },
     "output_type": "display_data"
    },
    {
     "name": "stdout",
     "output_type": "stream",
     "text": [
      "\n",
      "Model Validation Report:\n",
      "------------------------------\n",
      "Fold 1 : 0.92\n",
      "Fold 2 : 0.93\n",
      "Fold 3 : 0.92\n",
      "Fold 4 : 0.92\n",
      "Fold 5 : 0.91\n",
      "Fold 6 : 0.91\n",
      "Fold 7 : 0.91\n",
      "Fold 8 : 0.92\n",
      "Fold 9 : 0.92\n",
      "Fold 10 : 0.92\n",
      "\n",
      "Min Score: 0.9098\n",
      "Max Score: 0.9268\n",
      "Mean Score: 0.9189\n"
     ]
    }
   ],
   "source": [
    "# SGD model on TF-IDF\n",
    "sgd_tfidf_predictions = train_predict_model(classifier=sgd, \n",
    "                                                train_features=tv_train_features, train_labels=label_train,\n",
    "                                                test_features=tv_test_features, test_labels=label_test)\n",
    "\n",
    "display_model_performance_metrics(true_labels=label_test, predicted_labels=sgd_tfidf_predictions,\n",
    "                                      classes=[0,1,2,3,4,5,6])\n",
    "\n",
    "fetch_scores(classifier_name = 'Stochastic Gradient Descent (TF-IDF)', true_labels=label_test, \n",
    "                                     predicted_labels=sgd_tfidf_predictions)\n",
    "\n",
    "cross_validate_model(classifier=sgd, text=tv.fit_transform(text), label=label, k=10)"
   ]
  },
  {
   "cell_type": "markdown",
   "id": "899ab436-789c-4dc6-a6ce-e86031b27f93",
   "metadata": {},
   "source": [
    "## HashingVectorizer Model"
   ]
  },
  {
   "cell_type": "code",
   "execution_count": 28,
   "id": "a8d3cc2b-54e5-4f12-ad63-14c00c27ec28",
   "metadata": {},
   "outputs": [
    {
     "name": "stdout",
     "output_type": "stream",
     "text": [
      "Model Performance metrics:\n",
      "------------------------------\n",
      "Accuracy: 0.9043\n",
      "Precision: 0.9043\n",
      "Recall: 0.9043\n",
      "F1 Score: 0.9038\n",
      "\n",
      "Model Classification report:\n",
      "------------------------------\n",
      "              precision    recall  f1-score   support\n",
      "\n",
      "           0       0.97      0.98      0.97       934\n",
      "           1       0.91      0.88      0.90       946\n",
      "           2       0.86      0.78      0.82       647\n",
      "           3       0.89      0.94      0.92       891\n",
      "           4       0.93      0.90      0.91       615\n",
      "           5       0.90      0.91      0.91       919\n",
      "           6       0.85      0.90      0.87       648\n",
      "\n",
      "    accuracy                           0.90      5600\n",
      "   macro avg       0.90      0.90      0.90      5600\n",
      "weighted avg       0.90      0.90      0.90      5600\n",
      "\n",
      "\n",
      "Prediction Confusion Matrix:\n",
      "------------------------------\n",
      "[[913   1   0   3   9   0   8]\n",
      " [  3 833  14  13   9  39  35]\n",
      " [  2  19 507  52   3  40  24]\n",
      " [  4   9  24 839   5   9   1]\n",
      " [  5   6   5  19 553   3  24]\n",
      " [  3  29  27   8   2 838  12]\n",
      " [ 15  15  15   4  15   3 581]]\n"
     ]
    },
    {
     "data": {
      "image/png": "[encoded data removed]",
      "text/plain": [
       "<Figure size 432x288 with 2 Axes>"
      ]
     },
     "metadata": {
      "needs_background": "light"
     },
     "output_type": "display_data"
    },
    {
     "name": "stdout",
     "output_type": "stream",
     "text": [
      "\n",
      "Model Validation Report:\n",
      "------------------------------\n",
      "Fold 1 : 0.9\n",
      "Fold 2 : 0.91\n",
      "Fold 3 : 0.9\n",
      "Fold 4 : 0.9\n",
      "Fold 5 : 0.9\n",
      "Fold 6 : 0.89\n",
      "Fold 7 : 0.88\n",
      "Fold 8 : 0.9\n",
      "Fold 9 : 0.9\n",
      "Fold 10 : 0.89\n",
      "\n",
      "Min Score: 0.883\n",
      "Max Score: 0.9089\n",
      "Mean Score: 0.8979\n"
     ]
    }
   ],
   "source": [
    "# SGD model on HashingVectorizer\n",
    "sgd_hsh_predictions = train_predict_model(classifier=sgd, \n",
    "                                             train_features=hv_train_features, train_labels=label_train,\n",
    "                                             test_features=hv_test_features, test_labels=label_test)\n",
    "\n",
    "display_model_performance_metrics(true_labels=label_test, predicted_labels=sgd_hsh_predictions,\n",
    "                                      classes=[0,1,2,3,4,5,6])\n",
    "\n",
    "fetch_scores(classifier_name = 'Stochastic Gradient Descent (HV)', true_labels=label_test, \n",
    "                                     predicted_labels=sgd_hsh_predictions)\n",
    "\n",
    "cross_validate_model(classifier=sgd, text=hv.fit_transform(text), label=label, k=10)"
   ]
  },
  {
   "cell_type": "markdown",
   "id": "7235fc77-ee05-4070-be4c-e3b186274ea6",
   "metadata": {},
   "source": [
    "# Random Forest"
   ]
  },
  {
   "cell_type": "code",
   "execution_count": 29,
   "id": "4625f1f5-6345-497b-824d-6a369aaee0e1",
   "metadata": {},
   "outputs": [],
   "source": [
    "from sklearn.ensemble import RandomForestClassifier\n",
    "rfc = RandomForestClassifier(n_jobs=-1)"
   ]
  },
  {
   "cell_type": "markdown",
   "id": "8d26f1ac-e7a3-47c2-ad66-40b69f3acc09",
   "metadata": {},
   "source": [
    "## 1) BOW Model"
   ]
  },
  {
   "cell_type": "code",
   "execution_count": 30,
   "id": "79a257be-fce9-4a64-8a26-1b28acbe173a",
   "metadata": {},
   "outputs": [
    {
     "name": "stdout",
     "output_type": "stream",
     "text": [
      "Model Performance metrics:\n",
      "------------------------------\n",
      "Accuracy: 0.8738\n",
      "Precision: 0.8743\n",
      "Recall: 0.8738\n",
      "F1 Score: 0.8707\n",
      "\n",
      "Model Classification report:\n",
      "------------------------------\n",
      "              precision    recall  f1-score   support\n",
      "\n",
      "           0       0.92      0.98      0.95       934\n",
      "           1       0.88      0.85      0.86       946\n",
      "           2       0.87      0.63      0.73       647\n",
      "           3       0.83      0.96      0.89       891\n",
      "           4       0.88      0.89      0.89       615\n",
      "           5       0.86      0.90      0.88       919\n",
      "           6       0.88      0.83      0.85       648\n",
      "\n",
      "    accuracy                           0.87      5600\n",
      "   macro avg       0.87      0.86      0.86      5600\n",
      "weighted avg       0.87      0.87      0.87      5600\n",
      "\n",
      "\n",
      "Prediction Confusion Matrix:\n",
      "------------------------------\n",
      "[[917   1   1   2   8   0   5]\n",
      " [ 20 803   8  23  16  51  25]\n",
      " [ 13  39 406  91   9  67  22]\n",
      " [  5   4  16 852   9   5   0]\n",
      " [  3   5   9  30 547   5  16]\n",
      " [  6  40  13  21   1 830   8]\n",
      " [ 28  20  15   6  29  12 538]]\n"
     ]
    },
    {
     "data": {
      "image/png": "[encoded data removed]",
      "text/plain": [
       "<Figure size 432x288 with 2 Axes>"
      ]
     },
     "metadata": {
      "needs_background": "light"
     },
     "output_type": "display_data"
    },
    {
     "name": "stdout",
     "output_type": "stream",
     "text": [
      "\n",
      "Model Validation Report:\n",
      "------------------------------\n",
      "Fold 1 : 0.87\n",
      "Fold 2 : 0.87\n",
      "Fold 3 : 0.87\n",
      "Fold 4 : 0.86\n",
      "Fold 5 : 0.84\n",
      "Fold 6 : 0.85\n",
      "Fold 7 : 0.84\n",
      "Fold 8 : 0.86\n",
      "Fold 9 : 0.86\n",
      "Fold 10 : 0.87\n",
      "\n",
      "Min Score: 0.8384\n",
      "Max Score: 0.8705\n",
      "Mean Score: 0.8586\n"
     ]
    }
   ],
   "source": [
    "# RandomForest model on BOW Model\n",
    "rfc_bow_predictions = train_predict_model(classifier=rfc, \n",
    "                                             train_features=cv_train_features, train_labels=label_train,\n",
    "                                             test_features=cv_test_features, test_labels=label_test)\n",
    "\n",
    "display_model_performance_metrics(true_labels=label_test, predicted_labels=rfc_bow_predictions,\n",
    "                                      classes=[0,1,2,3,4,5,6])\n",
    "\n",
    "fetch_scores(classifier_name = 'Random Forest (CV)', true_labels=label_test, \n",
    "                                     predicted_labels=rfc_bow_predictions)\n",
    "\n",
    "cross_validate_model(classifier=rfc, text=cv.fit_transform(text), label=label, k=10)"
   ]
  },
  {
   "cell_type": "markdown",
   "id": "6c1bd5fc-ecd9-4c26-8b7a-ade1da161df7",
   "metadata": {},
   "source": [
    "## 2) TF-IDF Model"
   ]
  },
  {
   "cell_type": "code",
   "execution_count": 31,
   "id": "cd5afe25-7f87-4380-9b96-7d10a696a469",
   "metadata": {},
   "outputs": [
    {
     "name": "stdout",
     "output_type": "stream",
     "text": [
      "Model Performance metrics:\n",
      "------------------------------\n",
      "Accuracy: 0.8473\n",
      "Precision: 0.8517\n",
      "Recall: 0.8473\n",
      "F1 Score: 0.8412\n",
      "\n",
      "Model Classification report:\n",
      "------------------------------\n",
      "              precision    recall  f1-score   support\n",
      "\n",
      "           0       0.89      0.98      0.93       934\n",
      "           1       0.88      0.81      0.84       946\n",
      "           2       0.88      0.50      0.64       647\n",
      "           3       0.77      0.95      0.85       891\n",
      "           4       0.86      0.87      0.86       615\n",
      "           5       0.84      0.90      0.87       919\n",
      "           6       0.87      0.82      0.84       648\n",
      "\n",
      "    accuracy                           0.85      5600\n",
      "   macro avg       0.85      0.83      0.83      5600\n",
      "weighted avg       0.85      0.85      0.84      5600\n",
      "\n",
      "\n",
      "Prediction Confusion Matrix:\n",
      "------------------------------\n",
      "[[916   1   0   4   9   1   3]\n",
      " [ 28 767  18  29  20  57  27]\n",
      " [ 26  36 323 136   8  88  30]\n",
      " [ 11   8   7 845  11   9   0]\n",
      " [  4   2   5  51 536   3  14]\n",
      " [  9  36   7  29   4 827   7]\n",
      " [ 34  24   9   8  37   5 531]]\n"
     ]
    },
    {
     "data": {
      "image/png": "[encoded data removed]",
      "text/plain": [
       "<Figure size 432x288 with 2 Axes>"
      ]
     },
     "metadata": {
      "needs_background": "light"
     },
     "output_type": "display_data"
    },
    {
     "name": "stdout",
     "output_type": "stream",
     "text": [
      "\n",
      "Model Validation Report:\n",
      "------------------------------\n",
      "Fold 1 : 0.85\n",
      "Fold 2 : 0.84\n",
      "Fold 3 : 0.84\n",
      "Fold 4 : 0.84\n",
      "Fold 5 : 0.83\n",
      "Fold 6 : 0.82\n",
      "Fold 7 : 0.84\n",
      "Fold 8 : 0.83\n",
      "Fold 9 : 0.83\n",
      "Fold 10 : 0.85\n",
      "\n",
      "Min Score: 0.8241\n",
      "Max Score: 0.85\n",
      "Mean Score: 0.8385\n"
     ]
    }
   ],
   "source": [
    "# RandomForest model on TF-IDF\n",
    "rfc_tfidf_predictions = train_predict_model(classifier=rfc, \n",
    "                                                train_features=tv_train_features, train_labels=label_train,\n",
    "                                                test_features=tv_test_features, test_labels=label_test)\n",
    "\n",
    "display_model_performance_metrics(true_labels=label_test, predicted_labels=rfc_tfidf_predictions,\n",
    "                                      classes=[0,1,2,3,4,5,6])\n",
    "\n",
    "fetch_scores(classifier_name = 'Random Forest (TF-IDF)', true_labels=label_test, \n",
    "                                     predicted_labels=rfc_tfidf_predictions)\n",
    "\n",
    "cross_validate_model(classifier=rfc, text=tv.fit_transform(text), label=label, k=10)"
   ]
  },
  {
   "cell_type": "markdown",
   "id": "a9dbcc77-63b0-49f8-a75e-c0a5ce556b1b",
   "metadata": {},
   "source": [
    "## 3) HashingVectorizer Model"
   ]
  },
  {
   "cell_type": "code",
   "execution_count": 32,
   "id": "e70070be-e345-483a-b691-65fce7e0d0e4",
   "metadata": {},
   "outputs": [
    {
     "name": "stdout",
     "output_type": "stream",
     "text": [
      "Model Performance metrics:\n",
      "------------------------------\n",
      "Accuracy: 0.8555\n",
      "Precision: 0.8598\n",
      "Recall: 0.8555\n",
      "F1 Score: 0.8498\n",
      "\n",
      "Model Classification report:\n",
      "------------------------------\n",
      "              precision    recall  f1-score   support\n",
      "\n",
      "           0       0.89      0.99      0.94       934\n",
      "           1       0.87      0.83      0.85       946\n",
      "           2       0.91      0.53      0.67       647\n",
      "           3       0.79      0.96      0.87       891\n",
      "           4       0.86      0.88      0.87       615\n",
      "           5       0.84      0.90      0.87       919\n",
      "           6       0.85      0.80      0.83       648\n",
      "\n",
      "    accuracy                           0.86      5600\n",
      "   macro avg       0.86      0.84      0.84      5600\n",
      "weighted avg       0.86      0.86      0.85      5600\n",
      "\n",
      "\n",
      "Prediction Confusion Matrix:\n",
      "------------------------------\n",
      "[[921   0   0   1   8   1   3]\n",
      " [ 23 784  10  24  24  51  30]\n",
      " [ 24  36 340 124   8  85  30]\n",
      " [  8   7   7 855   9   5   0]\n",
      " [  9   6   5  35 540   1  19]\n",
      " [  5  37   3  32   3 830   9]\n",
      " [ 41  27   9   5  33  12 521]]\n"
     ]
    },
    {
     "data": {
      "image/png": "[encoded data removed]",
      "text/plain": [
       "<Figure size 432x288 with 2 Axes>"
      ]
     },
     "metadata": {
      "needs_background": "light"
     },
     "output_type": "display_data"
    },
    {
     "name": "stdout",
     "output_type": "stream",
     "text": [
      "\n",
      "Model Validation Report:\n",
      "------------------------------\n",
      "Fold 1 : 0.9\n",
      "Fold 2 : 0.91\n",
      "Fold 3 : 0.9\n",
      "Fold 4 : 0.9\n",
      "Fold 5 : 0.9\n",
      "Fold 6 : 0.89\n",
      "Fold 7 : 0.89\n",
      "Fold 8 : 0.9\n",
      "Fold 9 : 0.9\n",
      "Fold 10 : 0.89\n",
      "\n",
      "Min Score: 0.8911\n",
      "Max Score: 0.9107\n",
      "Mean Score: 0.8995\n"
     ]
    }
   ],
   "source": [
    "# RF model on HashingVectorizer\n",
    "rfc_hsh_predictions = train_predict_model(classifier=rfc, \n",
    "                                             train_features=hv_train_features, train_labels=label_train,\n",
    "                                             test_features=hv_test_features, test_labels=label_test)\n",
    "\n",
    "display_model_performance_metrics(true_labels=label_test, predicted_labels=rfc_hsh_predictions,\n",
    "                                      classes=[0,1,2,3,4,5,6])\n",
    "\n",
    "fetch_scores(classifier_name = 'Random Forest (HV)', true_labels=label_test, \n",
    "                                     predicted_labels=rfc_hsh_predictions)\n",
    "\n",
    "cross_validate_model(classifier=sgd, text=hv.fit_transform(text), label=label, k=10)"
   ]
  },
  {
   "cell_type": "markdown",
   "id": "9b94b67d-ab02-4f43-b6bf-7a11d51a9280",
   "metadata": {},
   "source": [
    "# Kernel SVM (Linear)"
   ]
  },
  {
   "cell_type": "code",
   "execution_count": 33,
   "id": "33eb2865-a4e0-4062-843b-955d353d028f",
   "metadata": {},
   "outputs": [],
   "source": [
    "from sklearn.svm import SVC\n",
    "svm = SVC(kernel = 'linear', random_state = 0)"
   ]
  },
  {
   "cell_type": "markdown",
   "id": "da0f93cd-3b88-446e-8a18-15f8847d81f3",
   "metadata": {},
   "source": [
    "## 1) BOW Model"
   ]
  },
  {
   "cell_type": "code",
   "execution_count": 34,
   "id": "262787dc-c202-4344-9746-9996ecf37b4f",
   "metadata": {},
   "outputs": [
    {
     "name": "stdout",
     "output_type": "stream",
     "text": [
      "Model Performance metrics:\n",
      "------------------------------\n",
      "Accuracy: 0.8807\n",
      "Precision: 0.8811\n",
      "Recall: 0.8807\n",
      "F1 Score: 0.8807\n",
      "\n",
      "Model Classification report:\n",
      "------------------------------\n",
      "              precision    recall  f1-score   support\n",
      "\n",
      "           0       0.95      0.98      0.96       934\n",
      "           1       0.89      0.84      0.86       946\n",
      "           2       0.77      0.80      0.78       647\n",
      "           3       0.89      0.91      0.90       891\n",
      "           4       0.90      0.89      0.90       615\n",
      "           5       0.89      0.86      0.88       919\n",
      "           6       0.84      0.86      0.85       648\n",
      "\n",
      "    accuracy                           0.88      5600\n",
      "   macro avg       0.88      0.88      0.88      5600\n",
      "weighted avg       0.88      0.88      0.88      5600\n",
      "\n",
      "\n",
      "Prediction Confusion Matrix:\n",
      "------------------------------\n",
      "[[911   1   1   4   9   1   7]\n",
      " [  9 795  25  15  15  46  41]\n",
      " [  4  25 517  33   3  43  22]\n",
      " [ 10  13  43 807  14   2   2]\n",
      " [  5   5  12  19 549   3  22]\n",
      " [  5  41  50  16   2 794  11]\n",
      " [ 14  17  25  10  17   6 559]]\n"
     ]
    },
    {
     "data": {
      "image/png": "[encoded data removed]",
      "text/plain": [
       "<Figure size 432x288 with 2 Axes>"
      ]
     },
     "metadata": {
      "needs_background": "light"
     },
     "output_type": "display_data"
    },
    {
     "name": "stdout",
     "output_type": "stream",
     "text": [
      "\n",
      "Model Validation Report:\n",
      "------------------------------\n",
      "Fold 1 : 0.88\n",
      "Fold 2 : 0.87\n",
      "Fold 3 : 0.88\n",
      "Fold 4 : 0.88\n",
      "Fold 5 : 0.87\n",
      "Fold 6 : 0.88\n",
      "Fold 7 : 0.88\n",
      "Fold 8 : 0.87\n",
      "Fold 9 : 0.88\n",
      "Fold 10 : 0.89\n",
      "\n",
      "Min Score: 0.8696\n",
      "Max Score: 0.8857\n",
      "Mean Score: 0.8776\n"
     ]
    }
   ],
   "source": [
    "# SVM (Linear) model on BOW Model\n",
    "svm_bow_predictions = train_predict_model(classifier=svm, \n",
    "                                                train_features=cv_train_features, train_labels=label_train,\n",
    "                                                test_features=cv_test_features, test_labels=label_test)\n",
    "\n",
    "display_model_performance_metrics(true_labels=label_test, predicted_labels=svm_bow_predictions,\n",
    "                                      classes=[0,1,2,3,4,5,6])\n",
    "\n",
    "fetch_scores(classifier_name = 'Linear Support Vector Machine (CV)', true_labels=label_test, \n",
    "                                     predicted_labels=svm_bow_predictions)\n",
    "\n",
    "cross_validate_model(classifier=svm, text=cv.fit_transform(text), label=label, k=10)"
   ]
  },
  {
   "cell_type": "markdown",
   "id": "ca0b769d-4356-4833-a52f-ba82c2cdff04",
   "metadata": {},
   "source": [
    "## 2) TF-IDF Model"
   ]
  },
  {
   "cell_type": "code",
   "execution_count": 35,
   "id": "ff278052-aa8f-4ca4-aac1-8c71a825cdde",
   "metadata": {},
   "outputs": [
    {
     "name": "stdout",
     "output_type": "stream",
     "text": [
      "Model Performance metrics:\n",
      "------------------------------\n",
      "Accuracy: 0.9239\n",
      "Precision: 0.9241\n",
      "Recall: 0.9239\n",
      "F1 Score: 0.9238\n",
      "\n",
      "Model Classification report:\n",
      "------------------------------\n",
      "              precision    recall  f1-score   support\n",
      "\n",
      "           0       0.98      0.98      0.98       934\n",
      "           1       0.94      0.90      0.92       946\n",
      "           2       0.86      0.84      0.85       647\n",
      "           3       0.93      0.95      0.94       891\n",
      "           4       0.92      0.94      0.93       615\n",
      "           5       0.92      0.92      0.92       919\n",
      "           6       0.89      0.92      0.90       648\n",
      "\n",
      "    accuracy                           0.92      5600\n",
      "   macro avg       0.92      0.92      0.92      5600\n",
      "weighted avg       0.92      0.92      0.92      5600\n",
      "\n",
      "\n",
      "Prediction Confusion Matrix:\n",
      "------------------------------\n",
      "[[912   2   0   2   8   0  10]\n",
      " [  2 850  14  11  13  31  25]\n",
      " [  0  18 545  30   3  36  15]\n",
      " [  0   5  28 848   5   4   1]\n",
      " [  3   2   4  11 577   0  18]\n",
      " [  3  25  26  10   1 846   8]\n",
      " [  7   6  14   2  18   5 596]]\n"
     ]
    },
    {
     "data": {
      "image/png": "[encoded data removed]",
      "text/plain": [
       "<Figure size 432x288 with 2 Axes>"
      ]
     },
     "metadata": {
      "needs_background": "light"
     },
     "output_type": "display_data"
    },
    {
     "name": "stdout",
     "output_type": "stream",
     "text": [
      "\n",
      "Model Validation Report:\n",
      "------------------------------\n",
      "Fold 1 : 0.91\n",
      "Fold 2 : 0.93\n",
      "Fold 3 : 0.91\n",
      "Fold 4 : 0.91\n",
      "Fold 5 : 0.91\n",
      "Fold 6 : 0.91\n",
      "Fold 7 : 0.91\n",
      "Fold 8 : 0.92\n",
      "Fold 9 : 0.92\n",
      "Fold 10 : 0.92\n",
      "\n",
      "Min Score: 0.9054\n",
      "Max Score: 0.9268\n",
      "Mean Score: 0.914\n"
     ]
    }
   ],
   "source": [
    "# SVM (Linear) model on TF-IDF\n",
    "svm_tfidf_predictions = train_predict_model(classifier=svm, \n",
    "                                                train_features=tv_train_features, train_labels=label_train,\n",
    "                                                test_features=tv_test_features, test_labels=label_test)\n",
    "\n",
    "display_model_performance_metrics(true_labels=label_test, predicted_labels=svm_tfidf_predictions,\n",
    "                                      classes=[0,1,2,3,4,5,6])\n",
    "\n",
    "fetch_scores(classifier_name = 'Linear Support Vector Machine (TF-IDF)', true_labels=label_test, \n",
    "                                     predicted_labels=svm_tfidf_predictions)\n",
    "\n",
    "cross_validate_model(classifier=svm, text=tv.fit_transform(text), label=label, k=10)"
   ]
  },
  {
   "cell_type": "markdown",
   "id": "8816575f-79e9-491b-9eb0-94f98037ff9a",
   "metadata": {},
   "source": [
    "## 3) HashingVectorizer Model"
   ]
  },
  {
   "cell_type": "code",
   "execution_count": 36,
   "id": "2e4ec2b6-ace2-4457-be18-643114f0d3ee",
   "metadata": {},
   "outputs": [
    {
     "name": "stdout",
     "output_type": "stream",
     "text": [
      "Model Performance metrics:\n",
      "------------------------------\n",
      "Accuracy: 0.9027\n",
      "Precision: 0.9026\n",
      "Recall: 0.9027\n",
      "F1 Score: 0.9024\n",
      "\n",
      "Model Classification report:\n",
      "------------------------------\n",
      "              precision    recall  f1-score   support\n",
      "\n",
      "           0       0.97      0.97      0.97       934\n",
      "           1       0.91      0.87      0.89       946\n",
      "           2       0.83      0.80      0.81       647\n",
      "           3       0.89      0.94      0.91       891\n",
      "           4       0.91      0.91      0.91       615\n",
      "           5       0.90      0.91      0.91       919\n",
      "           6       0.87      0.89      0.88       648\n",
      "\n",
      "    accuracy                           0.90      5600\n",
      "   macro avg       0.90      0.90      0.90      5600\n",
      "weighted avg       0.90      0.90      0.90      5600\n",
      "\n",
      "\n",
      "Prediction Confusion Matrix:\n",
      "------------------------------\n",
      "[[910   3   0   5   9   0   7]\n",
      " [  2 820  23  18  16  39  28]\n",
      " [  0  20 518  46   7  37  19]\n",
      " [  3   7  30 834   9   7   1]\n",
      " [  6   5   6  15 559   3  21]\n",
      " [  1  26  32  12   0 838  10]\n",
      " [ 13  18  17   4  16   4 576]]\n"
     ]
    },
    {
     "data": {
      "image/png": "[encoded data removed]",
      "text/plain": [
       "<Figure size 432x288 with 2 Axes>"
      ]
     },
     "metadata": {
      "needs_background": "light"
     },
     "output_type": "display_data"
    },
    {
     "name": "stdout",
     "output_type": "stream",
     "text": [
      "\n",
      "Model Validation Report:\n",
      "------------------------------\n",
      "Fold 1 : 0.89\n",
      "Fold 2 : 0.9\n",
      "Fold 3 : 0.89\n",
      "Fold 4 : 0.89\n",
      "Fold 5 : 0.89\n",
      "Fold 6 : 0.87\n",
      "Fold 7 : 0.89\n",
      "Fold 8 : 0.89\n",
      "Fold 9 : 0.89\n",
      "Fold 10 : 0.89\n",
      "\n",
      "Min Score: 0.8732\n",
      "Max Score: 0.9036\n",
      "Mean Score: 0.8898\n"
     ]
    }
   ],
   "source": [
    "# SVM (Linear) model on HashingVectorizer\n",
    "svm_hsh_predictions = train_predict_model(classifier=svm, \n",
    "                                             train_features=hv_train_features, train_labels=label_train,\n",
    "                                             test_features=hv_test_features, test_labels=label_test)\n",
    "\n",
    "display_model_performance_metrics(true_labels=label_test, predicted_labels=svm_hsh_predictions,\n",
    "                                      classes=[0,1,2,3,4,5,6])\n",
    "\n",
    "fetch_scores(classifier_name = 'Linear Support Vector Machine (HV)', true_labels=label_test, \n",
    "                                     predicted_labels=svm_hsh_predictions)\n",
    "\n",
    "cross_validate_model(classifier=svm, text=hv.fit_transform(text), label=label, k=10)"
   ]
  },
  {
   "cell_type": "markdown",
   "id": "8821797a-c3b5-4089-8ccb-35ac701d85cd",
   "metadata": {},
   "source": [
    "# Kernel SVM (Non Linear)"
   ]
  },
  {
   "cell_type": "code",
   "execution_count": 37,
   "id": "29b96e88-968f-4b4e-99a4-2a7a175ee20e",
   "metadata": {},
   "outputs": [],
   "source": [
    "from sklearn.svm import SVC\n",
    "svm_nl = SVC(kernel = 'rbf', random_state = 0)"
   ]
  },
  {
   "cell_type": "markdown",
   "id": "eea64f88-fb83-4133-b42a-865f852ab9ef",
   "metadata": {},
   "source": [
    "## 1) BOW Model"
   ]
  },
  {
   "cell_type": "code",
   "execution_count": 38,
   "id": "8a71958c-75c4-4200-bee9-346f918a1eb7",
   "metadata": {},
   "outputs": [
    {
     "name": "stdout",
     "output_type": "stream",
     "text": [
      "Model Performance metrics:\n",
      "------------------------------\n",
      "Accuracy: 0.897\n",
      "Precision: 0.8969\n",
      "Recall: 0.897\n",
      "F1 Score: 0.8967\n",
      "\n",
      "Model Classification report:\n",
      "------------------------------\n",
      "              precision    recall  f1-score   support\n",
      "\n",
      "           0       0.97      0.97      0.97       934\n",
      "           1       0.91      0.86      0.89       946\n",
      "           2       0.83      0.80      0.82       647\n",
      "           3       0.89      0.93      0.91       891\n",
      "           4       0.90      0.90      0.90       615\n",
      "           5       0.90      0.90      0.90       919\n",
      "           6       0.86      0.88      0.87       648\n",
      "\n",
      "    accuracy                           0.90      5600\n",
      "   macro avg       0.89      0.89      0.89      5600\n",
      "weighted avg       0.90      0.90      0.90      5600\n",
      "\n",
      "\n",
      "Prediction Confusion Matrix:\n",
      "------------------------------\n",
      "[[905   4   1   7   8   0   9]\n",
      " [  4 817  21  18  15  40  31]\n",
      " [  0  19 519  42   5  41  21]\n",
      " [  7   7  24 831  16   6   0]\n",
      " [  5   6   6  18 556   3  21]\n",
      " [  3  29  37  14   3 824   9]\n",
      " [ 13  18  18   7  17   4 571]]\n"
     ]
    },
    {
     "data": {
      "image/png": "[encoded data removed]",
      "text/plain": [
       "<Figure size 432x288 with 2 Axes>"
      ]
     },
     "metadata": {
      "needs_background": "light"
     },
     "output_type": "display_data"
    },
    {
     "name": "stdout",
     "output_type": "stream",
     "text": [
      "\n",
      "Model Validation Report:\n",
      "------------------------------\n",
      "Fold 1 : 0.9\n",
      "Fold 2 : 0.89\n",
      "Fold 3 : 0.9\n",
      "Fold 4 : 0.89\n",
      "Fold 5 : 0.89\n",
      "Fold 6 : 0.88\n",
      "Fold 7 : 0.89\n",
      "Fold 8 : 0.88\n",
      "Fold 9 : 0.89\n",
      "Fold 10 : 0.9\n",
      "\n",
      "Min Score: 0.8759\n",
      "Max Score: 0.9009\n",
      "Mean Score: 0.8894\n"
     ]
    }
   ],
   "source": [
    "# SVM (Non Linear) model on BOW Model\n",
    "svmnl_bow_predictions = train_predict_model(classifier=svm_nl, \n",
    "                                                train_features=cv_train_features, train_labels=label_train,\n",
    "                                                test_features=cv_test_features, test_labels=label_test)\n",
    "\n",
    "display_model_performance_metrics(true_labels=label_test, predicted_labels=svmnl_bow_predictions,\n",
    "                                      classes=[0,1,2,3,4,5,6])\n",
    "\n",
    "fetch_scores(classifier_name = 'Non-Linear Support Vector Machine (CV)', true_labels=label_test, \n",
    "                                     predicted_labels=svmnl_bow_predictions)\n",
    "\n",
    "cross_validate_model(classifier=svm_nl, text=cv.fit_transform(text), label=label, k=10)"
   ]
  },
  {
   "cell_type": "markdown",
   "id": "0887fa29-68f9-461d-9e52-bcf80e7ada8f",
   "metadata": {},
   "source": [
    "## 2) TF-IDF Model"
   ]
  },
  {
   "cell_type": "code",
   "execution_count": 39,
   "id": "6fecb7c4-ea85-4839-b11f-f5a95f0e7e0b",
   "metadata": {},
   "outputs": [
    {
     "name": "stdout",
     "output_type": "stream",
     "text": [
      "Model Performance metrics:\n",
      "------------------------------\n",
      "Accuracy: 0.9184\n",
      "Precision: 0.9183\n",
      "Recall: 0.9184\n",
      "F1 Score: 0.918\n",
      "\n",
      "Model Classification report:\n",
      "------------------------------\n",
      "              precision    recall  f1-score   support\n",
      "\n",
      "           0       0.98      0.98      0.98       934\n",
      "           1       0.92      0.89      0.91       946\n",
      "           2       0.87      0.81      0.84       647\n",
      "           3       0.91      0.96      0.93       891\n",
      "           4       0.92      0.93      0.92       615\n",
      "           5       0.91      0.92      0.92       919\n",
      "           6       0.88      0.91      0.90       648\n",
      "\n",
      "    accuracy                           0.92      5600\n",
      "   macro avg       0.91      0.91      0.91      5600\n",
      "weighted avg       0.92      0.92      0.92      5600\n",
      "\n",
      "\n",
      "Prediction Confusion Matrix:\n",
      "------------------------------\n",
      "[[914   1   0   1  10   0   8]\n",
      " [  3 845  12  11  14  35  26]\n",
      " [  1  18 522  48   4  37  17]\n",
      " [  0   4  27 852   3   4   1]\n",
      " [  3   4   5  12 572   0  19]\n",
      " [  2  29  20  12   0 849   7]\n",
      " [  9  13  13   2  19   3 589]]\n"
     ]
    },
    {
     "data": {
      "image/png": "[encoded data removed]",
      "text/plain": [
       "<Figure size 432x288 with 2 Axes>"
      ]
     },
     "metadata": {
      "needs_background": "light"
     },
     "output_type": "display_data"
    },
    {
     "name": "stdout",
     "output_type": "stream",
     "text": [
      "\n",
      "Model Validation Report:\n",
      "------------------------------\n",
      "Fold 1 : 0.91\n",
      "Fold 2 : 0.92\n",
      "Fold 3 : 0.9\n",
      "Fold 4 : 0.9\n",
      "Fold 5 : 0.9\n",
      "Fold 6 : 0.89\n",
      "Fold 7 : 0.9\n",
      "Fold 8 : 0.91\n",
      "Fold 9 : 0.91\n",
      "Fold 10 : 0.91\n",
      "\n",
      "Min Score: 0.8911\n",
      "Max Score: 0.9188\n",
      "Mean Score: 0.9046\n"
     ]
    }
   ],
   "source": [
    "# SVM (Non Linear) model on TF-IDF\n",
    "svmnl_tfidf_predictions = train_predict_model(classifier=svm_nl, \n",
    "                                                train_features=tv_train_features, train_labels=label_train,\n",
    "                                                test_features=tv_test_features, test_labels=label_test)\n",
    "\n",
    "display_model_performance_metrics(true_labels=label_test, predicted_labels=svmnl_tfidf_predictions,\n",
    "                                      classes=[0,1,2,3,4,5,6])\n",
    "\n",
    "fetch_scores(classifier_name = 'Non-Linear Support Vector Machine (TF-IDF)', true_labels=label_test, \n",
    "                                     predicted_labels=svmnl_tfidf_predictions)\n",
    "\n",
    "cross_validate_model(classifier=svm_nl, text=tv.fit_transform(text), label=label, k=10)"
   ]
  },
  {
   "cell_type": "markdown",
   "id": "f0ded587-64d5-4b8d-a295-61a39e82b49b",
   "metadata": {},
   "source": [
    "## 3) HashVectorizer Model"
   ]
  },
  {
   "cell_type": "code",
   "execution_count": 40,
   "id": "24d01421-2e36-482c-8e8f-edbcb9963dc9",
   "metadata": {},
   "outputs": [
    {
     "name": "stdout",
     "output_type": "stream",
     "text": [
      "Model Performance metrics:\n",
      "------------------------------\n",
      "Accuracy: 0.9009\n",
      "Precision: 0.9009\n",
      "Recall: 0.9009\n",
      "F1 Score: 0.9007\n",
      "\n",
      "Model Classification report:\n",
      "------------------------------\n",
      "              precision    recall  f1-score   support\n",
      "\n",
      "           0       0.97      0.97      0.97       934\n",
      "           1       0.91      0.86      0.89       946\n",
      "           2       0.82      0.80      0.81       647\n",
      "           3       0.90      0.94      0.92       891\n",
      "           4       0.90      0.91      0.91       615\n",
      "           5       0.90      0.91      0.91       919\n",
      "           6       0.86      0.89      0.87       648\n",
      "\n",
      "    accuracy                           0.90      5600\n",
      "   macro avg       0.90      0.90      0.90      5600\n",
      "weighted avg       0.90      0.90      0.90      5600\n",
      "\n",
      "\n",
      "Prediction Confusion Matrix:\n",
      "------------------------------\n",
      "[[908   4   0   4   9   1   8]\n",
      " [  3 815  25  17  16  38  32]\n",
      " [  1  20 520  44   7  37  18]\n",
      " [  4   5  30 834  10   7   1]\n",
      " [  5   5   6  15 558   3  23]\n",
      " [  1  26  34  11   1 836  10]\n",
      " [ 13  20  17   4  16   4 574]]\n"
     ]
    },
    {
     "data": {
      "image/png": "[encoded data removed]",
      "text/plain": [
       "<Figure size 432x288 with 2 Axes>"
      ]
     },
     "metadata": {
      "needs_background": "light"
     },
     "output_type": "display_data"
    },
    {
     "name": "stdout",
     "output_type": "stream",
     "text": [
      "\n",
      "Model Validation Report:\n",
      "------------------------------\n",
      "Fold 1 : 0.89\n",
      "Fold 2 : 0.9\n",
      "Fold 3 : 0.89\n",
      "Fold 4 : 0.89\n",
      "Fold 5 : 0.89\n",
      "Fold 6 : 0.88\n",
      "Fold 7 : 0.89\n",
      "Fold 8 : 0.89\n",
      "Fold 9 : 0.89\n",
      "Fold 10 : 0.9\n",
      "\n",
      "Min Score: 0.8759\n",
      "Max Score: 0.9018\n",
      "Mean Score: 0.8901\n"
     ]
    }
   ],
   "source": [
    "# SVM (Non-Linear) model on HashingVectorizer\n",
    "svmnl_hsh_predictions = train_predict_model(classifier=svm_nl, \n",
    "                                             train_features=hv_train_features, train_labels=label_train,\n",
    "                                             test_features=hv_test_features, test_labels=label_test)\n",
    "\n",
    "display_model_performance_metrics(true_labels=label_test, predicted_labels=svmnl_hsh_predictions,\n",
    "                                      classes=[0,1,2,3,4,5,6])\n",
    "\n",
    "fetch_scores(classifier_name = 'Non-Linear Support Vector Machine (HV)', true_labels=label_test, \n",
    "                                     predicted_labels=svmnl_hsh_predictions)\n",
    "\n",
    "cross_validate_model(classifier=svm_nl, text=hv.fit_transform(text), label=label, k=10)"
   ]
  },
  {
   "cell_type": "markdown",
   "id": "75a3fa22-0301-4ab1-afe3-2cb37c5b3836",
   "metadata": {},
   "source": [
    "# XGBoost"
   ]
  },
  {
   "cell_type": "code",
   "execution_count": 51,
   "id": "034cc9bd-e880-42d7-97d5-0c1910e61982",
   "metadata": {},
   "outputs": [],
   "source": [
    "# Training XGBoost on the Training set\n",
    "from xgboost import XGBClassifier\n",
    "xgb = XGBClassifier(verbosity = 0)"
   ]
  },
  {
   "cell_type": "markdown",
   "id": "eb471830-a9c1-43fc-b7ea-7c47ee693936",
   "metadata": {},
   "source": [
    "## 1) BOW Model"
   ]
  },
  {
   "cell_type": "code",
   "execution_count": 52,
   "id": "569ade78-c222-49ed-9720-722182a652aa",
   "metadata": {},
   "outputs": [
    {
     "name": "stdout",
     "output_type": "stream",
     "text": [
      "Model Performance metrics:\n",
      "------------------------------\n",
      "Accuracy: 0.897\n",
      "Precision: 0.8968\n",
      "Recall: 0.897\n",
      "F1 Score: 0.8968\n",
      "\n",
      "Model Classification report:\n",
      "------------------------------\n",
      "              precision    recall  f1-score   support\n",
      "\n",
      "           0       0.96      0.97      0.97       934\n",
      "           1       0.91      0.88      0.89       946\n",
      "           2       0.83      0.80      0.81       647\n",
      "           3       0.90      0.93      0.91       891\n",
      "           4       0.89      0.89      0.89       615\n",
      "           5       0.90      0.89      0.90       919\n",
      "           6       0.86      0.88      0.87       648\n",
      "\n",
      "    accuracy                           0.90      5600\n",
      "   macro avg       0.89      0.89      0.89      5600\n",
      "weighted avg       0.90      0.90      0.90      5600\n",
      "\n",
      "\n",
      "Prediction Confusion Matrix:\n",
      "------------------------------\n",
      "[[905   2   2   7  10   1   7]\n",
      " [  4 834  23  12  13  33  27]\n",
      " [  3  21 519  37   6  39  22]\n",
      " [  7   5  31 828  12   5   3]\n",
      " [  7   5  12  18 548   3  22]\n",
      " [  1  39  24  21   4 821   9]\n",
      " [ 11  14  18   2  25  10 568]]\n"
     ]
    },
    {
     "data": {
      "image/png": "[encoded data removed]",
      "text/plain": [
       "<Figure size 432x288 with 2 Axes>"
      ]
     },
     "metadata": {
      "needs_background": "light"
     },
     "output_type": "display_data"
    },
    {
     "name": "stdout",
     "output_type": "stream",
     "text": [
      "\n",
      "Model Validation Report:\n",
      "------------------------------\n",
      "Fold 1 : 0.88\n",
      "Fold 2 : 0.9\n",
      "Fold 3 : 0.9\n",
      "Fold 4 : 0.89\n",
      "Fold 5 : 0.87\n",
      "Fold 6 : 0.88\n",
      "Fold 7 : 0.89\n",
      "Fold 8 : 0.89\n",
      "Fold 9 : 0.88\n",
      "Fold 10 : 0.89\n",
      "\n",
      "Min Score: 0.8696\n",
      "Max Score: 0.9\n",
      "Mean Score: 0.8848\n"
     ]
    }
   ],
   "source": [
    "# XGBoost model on BOW Model\n",
    "xgb_bow_predictions = train_predict_model(classifier=xgb, \n",
    "                                                train_features=cv_train_features, train_labels=label_train,\n",
    "                                                test_features=cv_test_features, test_labels=label_test)\n",
    "\n",
    "display_model_performance_metrics(true_labels=label_test, predicted_labels=xgb_bow_predictions,\n",
    "                                      classes=[0,1,2,3,4,5,6])\n",
    "\n",
    "fetch_scores(classifier_name = 'XGBoost (CV)', true_labels=label_test, \n",
    "                                     predicted_labels=xgb_bow_predictions)\n",
    "\n",
    "cross_validate_model(classifier=xgb, text=cv.fit_transform(text), label=label, k=10)"
   ]
  },
  {
   "cell_type": "markdown",
   "id": "95379a78-ee99-449d-bd36-ce2bd580bc3c",
   "metadata": {},
   "source": [
    "## 2) TF-IDF Model"
   ]
  },
  {
   "cell_type": "code",
   "execution_count": 53,
   "id": "8342ec05-225b-4039-a655-1c0bea073ba0",
   "metadata": {},
   "outputs": [
    {
     "name": "stdout",
     "output_type": "stream",
     "text": [
      "Model Performance metrics:\n",
      "------------------------------\n",
      "Accuracy: 0.8875\n",
      "Precision: 0.8871\n",
      "Recall: 0.8875\n",
      "F1 Score: 0.8868\n",
      "\n",
      "Model Classification report:\n",
      "------------------------------\n",
      "              precision    recall  f1-score   support\n",
      "\n",
      "           0       0.96      0.97      0.97       934\n",
      "           1       0.90      0.86      0.88       946\n",
      "           2       0.83      0.75      0.79       647\n",
      "           3       0.88      0.94      0.91       891\n",
      "           4       0.86      0.89      0.87       615\n",
      "           5       0.88      0.89      0.89       919\n",
      "           6       0.84      0.87      0.86       648\n",
      "\n",
      "    accuracy                           0.89      5600\n",
      "   macro avg       0.88      0.88      0.88      5600\n",
      "weighted avg       0.89      0.89      0.89      5600\n",
      "\n",
      "\n",
      "Prediction Confusion Matrix:\n",
      "------------------------------\n",
      "[[907   1   1   5  14   1   5]\n",
      " [  5 816  20  12  17  44  32]\n",
      " [  5  24 486  47   9  46  30]\n",
      " [  6   7  22 835  11   6   4]\n",
      " [  4   5  12  23 545   3  23]\n",
      " [  2  38  25  19   6 820   9]\n",
      " [ 13  12  19   4  30   9 561]]\n"
     ]
    },
    {
     "data": {
      "image/png": "[encoded data removed]",
      "text/plain": [
       "<Figure size 432x288 with 2 Axes>"
      ]
     },
     "metadata": {
      "needs_background": "light"
     },
     "output_type": "display_data"
    },
    {
     "name": "stdout",
     "output_type": "stream",
     "text": [
      "\n",
      "Model Validation Report:\n",
      "------------------------------\n",
      "Fold 1 : 0.87\n",
      "Fold 2 : 0.89\n",
      "Fold 3 : 0.88\n",
      "Fold 4 : 0.88\n",
      "Fold 5 : 0.87\n",
      "Fold 6 : 0.87\n",
      "Fold 7 : 0.88\n",
      "Fold 8 : 0.87\n",
      "Fold 9 : 0.87\n",
      "Fold 10 : 0.88\n",
      "\n",
      "Min Score: 0.8652\n",
      "Max Score: 0.892\n",
      "Mean Score: 0.8752\n"
     ]
    }
   ],
   "source": [
    "# XGBoost model on TF-IDF\n",
    "xgb_tfidf_predictions = train_predict_model(classifier=xgb, \n",
    "                                                train_features=tv_train_features, train_labels=label_train,\n",
    "                                                test_features=tv_test_features, test_labels=label_test)\n",
    "\n",
    "display_model_performance_metrics(true_labels=label_test, predicted_labels=xgb_tfidf_predictions,\n",
    "                                      classes=[0,1,2,3,4,5,6])\n",
    "\n",
    "fetch_scores(classifier_name = 'XGBoost (TF-IDF)', true_labels=label_test, \n",
    "                                     predicted_labels=xgb_tfidf_predictions)\n",
    "\n",
    "cross_validate_model(classifier=xgb, text=tv.fit_transform(text), label=label, k=10)"
   ]
  },
  {
   "cell_type": "markdown",
   "id": "7882560b-8e39-4e22-824c-e52d9de245b6",
   "metadata": {},
   "source": [
    "## 3) HashVectorizer Model"
   ]
  },
  {
   "cell_type": "code",
   "execution_count": 54,
   "id": "f4a66a96-c584-4e9b-a5d9-2436f7e92aa2",
   "metadata": {},
   "outputs": [
    {
     "name": "stdout",
     "output_type": "stream",
     "text": [
      "Model Performance metrics:\n",
      "------------------------------\n",
      "Accuracy: 0.8912\n",
      "Precision: 0.8911\n",
      "Recall: 0.8912\n",
      "F1 Score: 0.8911\n",
      "\n",
      "Model Classification report:\n",
      "------------------------------\n",
      "              precision    recall  f1-score   support\n",
      "\n",
      "           0       0.97      0.97      0.97       934\n",
      "           1       0.89      0.87      0.88       946\n",
      "           2       0.81      0.80      0.80       647\n",
      "           3       0.90      0.93      0.91       891\n",
      "           4       0.88      0.87      0.88       615\n",
      "           5       0.89      0.88      0.89       919\n",
      "           6       0.87      0.87      0.87       648\n",
      "\n",
      "    accuracy                           0.89      5600\n",
      "   macro avg       0.89      0.89      0.89      5600\n",
      "weighted avg       0.89      0.89      0.89      5600\n",
      "\n",
      "\n",
      "Prediction Confusion Matrix:\n",
      "------------------------------\n",
      "[[910   2   0   3  12   3   4]\n",
      " [  3 824  26  13  14  43  23]\n",
      " [  4  20 518  41   7  36  21]\n",
      " [  4   8  28 828  15   5   3]\n",
      " [  6   7  16  20 538   4  24]\n",
      " [  1  46  29  16   6 811  10]\n",
      " [ 13  14  25   3  22   9 562]]\n"
     ]
    },
    {
     "data": {
      "image/png": "[encoded data removed]",
      "text/plain": [
       "<Figure size 432x288 with 2 Axes>"
      ]
     },
     "metadata": {
      "needs_background": "light"
     },
     "output_type": "display_data"
    },
    {
     "name": "stdout",
     "output_type": "stream",
     "text": [
      "\n",
      "Model Validation Report:\n",
      "------------------------------\n",
      "Fold 1 : 0.87\n",
      "Fold 2 : 0.88\n",
      "Fold 3 : 0.89\n",
      "Fold 4 : 0.88\n",
      "Fold 5 : 0.86\n",
      "Fold 6 : 0.87\n",
      "Fold 7 : 0.87\n",
      "Fold 8 : 0.87\n",
      "Fold 9 : 0.87\n",
      "Fold 10 : 0.88\n",
      "\n",
      "Min Score: 0.8634\n",
      "Max Score: 0.8857\n",
      "Mean Score: 0.8739\n"
     ]
    }
   ],
   "source": [
    "# XGBoost model on HashingVectorizer\n",
    "xgb_hsh_predictions = train_predict_model(classifier=xgb, \n",
    "                                             train_features=hv_train_features, train_labels=label_train,\n",
    "                                             test_features=hv_test_features, test_labels=label_test)\n",
    "\n",
    "display_model_performance_metrics(true_labels=label_test, predicted_labels=xgb_hsh_predictions,\n",
    "                                      classes=[0,1,2,3,4,5,6])\n",
    "\n",
    "fetch_scores(classifier_name = 'XGBoost (HV)', true_labels=label_test, \n",
    "                                     predicted_labels=xgb_hsh_predictions)\n",
    "\n",
    "cross_validate_model(classifier=xgb, text=hv.fit_transform(text), label=label, k=10)"
   ]
  },
  {
   "cell_type": "markdown",
   "id": "b1464b46-2d7c-4c3c-91bb-b5c65032cdfe",
   "metadata": {},
   "source": [
    "# KNN"
   ]
  },
  {
   "cell_type": "code",
   "execution_count": 45,
   "id": "7115caf1-902b-4894-9da2-41872e209267",
   "metadata": {},
   "outputs": [],
   "source": [
    "from sklearn.neighbors import KNeighborsClassifier\n",
    "neigh = KNeighborsClassifier(n_neighbors=3)"
   ]
  },
  {
   "cell_type": "markdown",
   "id": "0312daf4-3638-48be-91a2-6ae541a7f23c",
   "metadata": {},
   "source": [
    "## 1) BOW Model"
   ]
  },
  {
   "cell_type": "code",
   "execution_count": 46,
   "id": "af30e83c-e0a3-49e3-a60f-c7d28096eba3",
   "metadata": {},
   "outputs": [
    {
     "name": "stdout",
     "output_type": "stream",
     "text": [
      "Model Performance metrics:\n",
      "------------------------------\n",
      "Accuracy: 0.5009\n",
      "Precision: 0.6826\n",
      "Recall: 0.5009\n",
      "F1 Score: 0.5166\n",
      "\n",
      "Model Classification report:\n",
      "------------------------------\n",
      "              precision    recall  f1-score   support\n",
      "\n",
      "           0       0.76      0.37      0.50       934\n",
      "           1       0.27      0.86      0.41       946\n",
      "           2       0.63      0.27      0.37       647\n",
      "           3       0.75      0.68      0.72       891\n",
      "           4       0.83      0.33      0.48       615\n",
      "           5       0.82      0.38      0.52       919\n",
      "           6       0.79      0.48      0.59       648\n",
      "\n",
      "    accuracy                           0.50      5600\n",
      "   macro avg       0.69      0.48      0.51      5600\n",
      "weighted avg       0.68      0.50      0.52      5600\n",
      "\n",
      "\n",
      "Prediction Confusion Matrix:\n",
      "------------------------------\n",
      "[[343 553   8  19   5   2   4]\n",
      " [ 14 813  18  15  11  50  25]\n",
      " [ 15 326 172  81   8  20  25]\n",
      " [  6 242  24 609   5   3   2]\n",
      " [ 17 338   8  28 206   1  17]\n",
      " [ 19 465  31  42   0 353   9]\n",
      " [ 37 262  12  13  12   3 309]]\n"
     ]
    },
    {
     "data": {
      "image/png": "[encoded data removed]",
      "text/plain": [
       "<Figure size 432x288 with 2 Axes>"
      ]
     },
     "metadata": {
      "needs_background": "light"
     },
     "output_type": "display_data"
    },
    {
     "name": "stdout",
     "output_type": "stream",
     "text": [
      "\n",
      "Model Validation Report:\n",
      "------------------------------\n",
      "Fold 1 : 0.45\n",
      "Fold 2 : 0.46\n",
      "Fold 3 : 0.47\n",
      "Fold 4 : 0.46\n",
      "Fold 5 : 0.49\n",
      "Fold 6 : 0.46\n",
      "Fold 7 : 0.44\n",
      "Fold 8 : 0.45\n",
      "Fold 9 : 0.44\n",
      "Fold 10 : 0.48\n",
      "\n",
      "Min Score: 0.442\n",
      "Max Score: 0.4929\n",
      "Mean Score: 0.459\n"
     ]
    }
   ],
   "source": [
    "# KNN model on BOW Model\n",
    "neigh_bow_predictions = train_predict_model(classifier=neigh, \n",
    "                                                train_features=cv_train_features, train_labels=label_train,\n",
    "                                                test_features=cv_test_features, test_labels=label_test)\n",
    "\n",
    "display_model_performance_metrics(true_labels=label_test, predicted_labels=neigh_bow_predictions,\n",
    "                                      classes=[0,1,2,3,4,5,6])\n",
    "\n",
    "fetch_scores(classifier_name = 'K Nearest Neighbours (CV)', true_labels=label_test, \n",
    "                                     predicted_labels=neigh_bow_predictions)\n",
    "\n",
    "cross_validate_model(classifier=neigh, text=cv.fit_transform(text), label=label, k=10)"
   ]
  },
  {
   "cell_type": "markdown",
   "id": "8c84d28d-bd3f-4507-8daa-74d0dd5ae1be",
   "metadata": {},
   "source": [
    "## 2) TF-IDF Model"
   ]
  },
  {
   "cell_type": "code",
   "execution_count": 47,
   "id": "98041b81-b4f3-4b0d-b28f-cc6b3d5882d7",
   "metadata": {},
   "outputs": [
    {
     "name": "stdout",
     "output_type": "stream",
     "text": [
      "Model Performance metrics:\n",
      "------------------------------\n",
      "Accuracy: 0.8875\n",
      "Precision: 0.8871\n",
      "Recall: 0.8875\n",
      "F1 Score: 0.8868\n",
      "\n",
      "Model Classification report:\n",
      "------------------------------\n",
      "              precision    recall  f1-score   support\n",
      "\n",
      "           0       0.96      0.97      0.97       934\n",
      "           1       0.90      0.86      0.88       946\n",
      "           2       0.83      0.75      0.79       647\n",
      "           3       0.88      0.94      0.91       891\n",
      "           4       0.86      0.89      0.87       615\n",
      "           5       0.88      0.89      0.89       919\n",
      "           6       0.84      0.87      0.86       648\n",
      "\n",
      "    accuracy                           0.89      5600\n",
      "   macro avg       0.88      0.88      0.88      5600\n",
      "weighted avg       0.89      0.89      0.89      5600\n",
      "\n",
      "\n",
      "Prediction Confusion Matrix:\n",
      "------------------------------\n",
      "[[907   1   1   5  14   1   5]\n",
      " [  5 816  20  12  17  44  32]\n",
      " [  5  24 486  47   9  46  30]\n",
      " [  6   7  22 835  11   6   4]\n",
      " [  4   5  12  23 545   3  23]\n",
      " [  2  38  25  19   6 820   9]\n",
      " [ 13  12  19   4  30   9 561]]\n"
     ]
    },
    {
     "data": {
      "image/png": "[encoded data removed]",
      "text/plain": [
       "<Figure size 432x288 with 2 Axes>"
      ]
     },
     "metadata": {
      "needs_background": "light"
     },
     "output_type": "display_data"
    },
    {
     "name": "stdout",
     "output_type": "stream",
     "text": [
      "\n",
      "Model Validation Report:\n",
      "------------------------------\n",
      "Fold 1 : 0.87\n",
      "Fold 2 : 0.87\n",
      "Fold 3 : 0.87\n",
      "Fold 4 : 0.86\n",
      "Fold 5 : 0.87\n",
      "Fold 6 : 0.87\n",
      "Fold 7 : 0.85\n",
      "Fold 8 : 0.88\n",
      "Fold 9 : 0.87\n",
      "Fold 10 : 0.87\n",
      "\n",
      "Min Score: 0.85\n",
      "Max Score: 0.8768\n",
      "Mean Score: 0.8664\n"
     ]
    }
   ],
   "source": [
    "# KNN model on TF-IDF\n",
    "neigh_tfidf_predictions = train_predict_model(classifier=neigh, \n",
    "                                                train_features=tv_train_features, train_labels=label_train,\n",
    "                                                test_features=tv_test_features, test_labels=label_test)\n",
    "\n",
    "display_model_performance_metrics(true_labels=label_test, predicted_labels=xgb_tfidf_predictions,\n",
    "                                      classes=[0,1,2,3,4,5,6])\n",
    "\n",
    "fetch_scores(classifier_name = 'K Nearest Neighbours (TF-IDF)', true_labels=label_test, \n",
    "                                     predicted_labels=neigh_tfidf_predictions)\n",
    "\n",
    "cross_validate_model(classifier=neigh, text=tv.fit_transform(text), label=label, k=10)"
   ]
  },
  {
   "cell_type": "markdown",
   "id": "2b1ef368-5918-4c79-b6b9-e9b1d2f814f7",
   "metadata": {},
   "source": [
    "## 3) HashingVectorizer Model"
   ]
  },
  {
   "cell_type": "code",
   "execution_count": 48,
   "id": "11be8cf4-0be4-42bf-a02d-225328683069",
   "metadata": {},
   "outputs": [
    {
     "name": "stdout",
     "output_type": "stream",
     "text": [
      "Model Performance metrics:\n",
      "------------------------------\n",
      "Accuracy: 0.6614\n",
      "Precision: 0.684\n",
      "Recall: 0.6614\n",
      "F1 Score: 0.6627\n",
      "\n",
      "Model Classification report:\n",
      "------------------------------\n",
      "              precision    recall  f1-score   support\n",
      "\n",
      "           0       0.82      0.75      0.78       934\n",
      "           1       0.52      0.71      0.60       946\n",
      "           2       0.47      0.51      0.48       647\n",
      "           3       0.71      0.83      0.76       891\n",
      "           4       0.84      0.50      0.63       615\n",
      "           5       0.70      0.64      0.67       919\n",
      "           6       0.75      0.56      0.64       648\n",
      "\n",
      "    accuracy                           0.66      5600\n",
      "   macro avg       0.69      0.64      0.65      5600\n",
      "weighted avg       0.68      0.66      0.66      5600\n",
      "\n",
      "\n",
      "Prediction Confusion Matrix:\n",
      "------------------------------\n",
      "[[705  82  41  35  19  37  15]\n",
      " [ 32 670  65  38   9  95  37]\n",
      " [ 23 126 327  88   5  55  23]\n",
      " [ 12  53  58 741   5  19   3]\n",
      " [ 41  93  52  77 310  14  28]\n",
      " [ 18 144 106  47   3 586  15]\n",
      " [ 33 127  53  24  19  27 365]]\n"
     ]
    },
    {
     "data": {
      "image/png": "[encoded data removed]",
      "text/plain": [
       "<Figure size 432x288 with 2 Axes>"
      ]
     },
     "metadata": {
      "needs_background": "light"
     },
     "output_type": "display_data"
    },
    {
     "name": "stdout",
     "output_type": "stream",
     "text": [
      "\n",
      "Model Validation Report:\n",
      "------------------------------\n",
      "Fold 1 : 0.63\n",
      "Fold 2 : 0.61\n",
      "Fold 3 : 0.64\n",
      "Fold 4 : 0.62\n",
      "Fold 5 : 0.6\n",
      "Fold 6 : 0.62\n",
      "Fold 7 : 0.61\n",
      "Fold 8 : 0.6\n",
      "Fold 9 : 0.63\n",
      "Fold 10 : 0.62\n",
      "\n",
      "Min Score: 0.6\n",
      "Max Score: 0.6438\n",
      "Mean Score: 0.6193\n"
     ]
    }
   ],
   "source": [
    "# KNN (Linear) model on HashingVectorizer\n",
    "neigh_hsh_predictions = train_predict_model(classifier=neigh, \n",
    "                                             train_features=hv_train_features, train_labels=label_train,\n",
    "                                             test_features=hv_test_features, test_labels=label_test)\n",
    "\n",
    "display_model_performance_metrics(true_labels=label_test, predicted_labels=neigh_hsh_predictions,\n",
    "                                      classes=[0,1,2,3,4,5,6])\n",
    "\n",
    "fetch_scores(classifier_name = 'K Nearest Neighbours (HV)', true_labels=label_test, \n",
    "                                     predicted_labels=neigh_hsh_predictions)\n",
    "\n",
    "cross_validate_model(classifier=neigh, text=hv.fit_transform(text), label=label, k=10)"
   ]
  },
  {
   "cell_type": "markdown",
   "id": "1e849d61-00a5-4d3f-b599-4316c78dcc32",
   "metadata": {},
   "source": [
    "# Models Statistics"
   ]
  },
  {
   "cell_type": "code",
   "execution_count": 55,
   "id": "aa33c15c-ceee-4830-9122-2dbe57f4ac83",
   "metadata": {},
   "outputs": [
    {
     "name": "stdout",
     "output_type": "stream",
     "text": [
      "defaultdict(<function <lambda> at 0x000001E9F9F25E50>, {'Logistic Regression (CV)': [0.8979, 0.8981, 0.8979, 0.8977], 'Logistic Regression (TF-IDF)': [0.9161, 0.9158, 0.9161, 0.9155], 'Logistic Regression (HV)': [0.8938, 0.8936, 0.8938, 0.8933], 'Stochastic Gradient Descent (CV)': [0.8891, 0.8899, 0.8891, 0.8892], 'Stochastic Gradient Descent (TF-IDF)': [0.9239, 0.9235, 0.9239, 0.9234], 'Stochastic Gradient Descent (HV)': [0.9043, 0.9043, 0.9043, 0.9038], 'Random Forest (CV)': [0.8738, 0.8743, 0.8738, 0.8707], 'Random Forest (TF-IDF)': [0.8473, 0.8517, 0.8473, 0.8412], 'Random Forest (HV)': [0.8555, 0.8598, 0.8555, 0.8498], 'Linear Support Vector Machine (CV)': [0.8807, 0.8811, 0.8807, 0.8807], 'Linear Support Vector Machine (TF-IDF)': [0.9239, 0.9241, 0.9239, 0.9238], 'Linear Support Vector Machine (HV)': [0.9027, 0.9026, 0.9027, 0.9024], 'Non-Linear Support Vector Machine (CV)': [0.897, 0.8969, 0.897, 0.8967], 'Non-Linear Support Vector Machine (TF-IDF)': [0.9184, 0.9183, 0.9184, 0.918], 'Non-Linear Support Vector Machine (HV)': [0.9009, 0.9009, 0.9009, 0.9007], 'XGBoost (CV)': [0.897, 0.8968, 0.897, 0.8968], 'XGBoost (TF-IDF)': [0.8875, 0.8871, 0.8875, 0.8868], 'XGBoost (HV)': [0.8912, 0.8911, 0.8912, 0.8911], 'K Nearest Neighbours (CV)': [0.5009, 0.6826, 0.5009, 0.5166], 'K Nearest Neighbours (TF-IDF)': [0.8736, 0.873, 0.8736, 0.8726], 'K Nearest Neighbours (HV)': [0.6614, 0.684, 0.6614, 0.6627]})\n"
     ]
    }
   ],
   "source": [
    "print(scores)"
   ]
  },
  {
   "cell_type": "code",
   "execution_count": 66,
   "id": "a020cdf9-765c-408b-8384-eee323e81646",
   "metadata": {},
   "outputs": [
    {
     "name": "stdout",
     "output_type": "stream",
     "text": [
      "Logistic Regression (CV)\n",
      "---------------------------------\n",
      "  Accuracy             0.8979\n",
      "  Precision            0.8981\n",
      "  Recall               0.8979\n",
      "  F1 Score             0.8977\n",
      "\n",
      "Logistic Regression (TF-IDF)\n",
      "---------------------------------\n",
      "  Accuracy             0.9161\n",
      "  Precision            0.9158\n",
      "  Recall               0.9161\n",
      "  F1 Score             0.9155\n",
      "\n",
      "Logistic Regression (HV)\n",
      "---------------------------------\n",
      "  Accuracy             0.8938\n",
      "  Precision            0.8936\n",
      "  Recall               0.8938\n",
      "  F1 Score             0.8933\n",
      "\n",
      "Stochastic Gradient Descent (CV)\n",
      "---------------------------------\n",
      "  Accuracy             0.8891\n",
      "  Precision            0.8899\n",
      "  Recall               0.8891\n",
      "  F1 Score             0.8892\n",
      "\n",
      "Stochastic Gradient Descent (TF-IDF)\n",
      "---------------------------------\n",
      "  Accuracy             0.9239\n",
      "  Precision            0.9235\n",
      "  Recall               0.9239\n",
      "  F1 Score             0.9234\n",
      "\n",
      "Stochastic Gradient Descent (HV)\n",
      "---------------------------------\n",
      "  Accuracy             0.9043\n",
      "  Precision            0.9043\n",
      "  Recall               0.9043\n",
      "  F1 Score             0.9038\n",
      "\n",
      "Random Forest (CV)\n",
      "---------------------------------\n",
      "  Accuracy             0.8738\n",
      "  Precision            0.8743\n",
      "  Recall               0.8738\n",
      "  F1 Score             0.8707\n",
      "\n",
      "Random Forest (TF-IDF)\n",
      "---------------------------------\n",
      "  Accuracy             0.8473\n",
      "  Precision            0.8517\n",
      "  Recall               0.8473\n",
      "  F1 Score             0.8412\n",
      "\n",
      "Random Forest (HV)\n",
      "---------------------------------\n",
      "  Accuracy             0.8555\n",
      "  Precision            0.8598\n",
      "  Recall               0.8555\n",
      "  F1 Score             0.8498\n",
      "\n",
      "Linear Support Vector Machine (CV)\n",
      "---------------------------------\n",
      "  Accuracy             0.8807\n",
      "  Precision            0.8811\n",
      "  Recall               0.8807\n",
      "  F1 Score             0.8807\n",
      "\n",
      "Linear Support Vector Machine (TF-IDF)\n",
      "---------------------------------\n",
      "  Accuracy             0.9239\n",
      "  Precision            0.9241\n",
      "  Recall               0.9239\n",
      "  F1 Score             0.9238\n",
      "\n",
      "Linear Support Vector Machine (HV)\n",
      "---------------------------------\n",
      "  Accuracy             0.9027\n",
      "  Precision            0.9026\n",
      "  Recall               0.9027\n",
      "  F1 Score             0.9024\n",
      "\n",
      "Non-Linear Support Vector Machine (CV)\n",
      "---------------------------------\n",
      "  Accuracy             0.897\n",
      "  Precision            0.8969\n",
      "  Recall               0.897\n",
      "  F1 Score             0.8967\n",
      "\n",
      "Non-Linear Support Vector Machine (TF-IDF)\n",
      "---------------------------------\n",
      "  Accuracy             0.9184\n",
      "  Precision            0.9183\n",
      "  Recall               0.9184\n",
      "  F1 Score             0.918\n",
      "\n",
      "Non-Linear Support Vector Machine (HV)\n",
      "---------------------------------\n",
      "  Accuracy             0.9009\n",
      "  Precision            0.9009\n",
      "  Recall               0.9009\n",
      "  F1 Score             0.9007\n",
      "\n",
      "XGBoost (CV)\n",
      "---------------------------------\n",
      "  Accuracy             0.897\n",
      "  Precision            0.8968\n",
      "  Recall               0.897\n",
      "  F1 Score             0.8968\n",
      "\n",
      "XGBoost (TF-IDF)\n",
      "---------------------------------\n",
      "  Accuracy             0.8875\n",
      "  Precision            0.8871\n",
      "  Recall               0.8875\n",
      "  F1 Score             0.8868\n",
      "\n",
      "XGBoost (HV)\n",
      "---------------------------------\n",
      "  Accuracy             0.8912\n",
      "  Precision            0.8911\n",
      "  Recall               0.8912\n",
      "  F1 Score             0.8911\n",
      "\n",
      "K Nearest Neighbours (CV)\n",
      "---------------------------------\n",
      "  Accuracy             0.5009\n",
      "  Precision            0.6826\n",
      "  Recall               0.5009\n",
      "  F1 Score             0.5166\n",
      "\n",
      "K Nearest Neighbours (TF-IDF)\n",
      "---------------------------------\n",
      "  Accuracy             0.8736\n",
      "  Precision            0.873\n",
      "  Recall               0.8736\n",
      "  F1 Score             0.8726\n",
      "\n",
      "K Nearest Neighbours (HV)\n",
      "---------------------------------\n",
      "  Accuracy             0.6614\n",
      "  Precision            0.684\n",
      "  Recall               0.6614\n",
      "  F1 Score             0.6627\n",
      "\n"
     ]
    }
   ],
   "source": [
    "mp = {0: 'Accuracy', 1: 'Precision', 2: 'Recall', 3: 'F1 Score'}\n",
    "best_accuracy, best_precision, best_recall, best_f1score = 0.0, 0.0, 0.0, 0.0\n",
    "for model, parameters in scores.items():\n",
    "    print(model)\n",
    "    print('-'*33)\n",
    "    i = 0\n",
    "    for p in parameters:\n",
    "        best_accuracy = max(best_accuracy, parameters[0])\n",
    "        best_precision = max(best_precision, parameters[1])\n",
    "        best_recall = max(best_recall, parameters[2])\n",
    "        best_f1score = max(best_f1score, parameters[3])\n",
    "        print(' ', mp[i] + (' ' * (20-len(mp[i]))), p)\n",
    "        i = i+1\n",
    "    print('')"
   ]
  },
  {
   "cell_type": "code",
   "execution_count": 70,
   "id": "79098708-c8df-4571-b1bf-3c9bf6e4a5ff",
   "metadata": {},
   "outputs": [
    {
     "name": "stdout",
     "output_type": "stream",
     "text": [
      "Best Accuracy: 0.9239 \n",
      "Models: {'Stochastic Gradient Descent (TF-IDF)'}\n",
      "\n",
      "Best Precision: 0.9241 \n",
      "Models: {'Linear Support Vector Machine (TF-IDF)'}\n",
      "\n",
      "Best Recall: 0.9239 \n",
      "Models: {'Stochastic Gradient Descent (TF-IDF)'}\n",
      "\n",
      "Best F1 Score: 0.9238 \n",
      "Models: {'Linear Support Vector Machine (TF-IDF)'}\n"
     ]
    }
   ],
   "source": [
    "best_accuracy_models, best_precision_models, best_recall_models, best_f1score_models = [], [], [], []\n",
    "for model, parameters in scores.items():\n",
    "    i = 0\n",
    "    for p in parameters:\n",
    "        if parameters[0] is best_accuracy: best_accuracy_models.append(model)\n",
    "        if parameters[1] is best_precision: best_precision_models.append(model)\n",
    "        if parameters[2] is best_recall: best_recall_models.append(model)\n",
    "        if parameters[3] is best_f1score: best_f1score_models.append(model)\n",
    "        i = i+1\n",
    "\n",
    "print('Best Accuracy:', best_accuracy, '\\nModels:', set(best_accuracy_models))\n",
    "print('\\nBest Precision:', best_precision, '\\nModels:', set(best_precision_models))\n",
    "print('\\nBest Recall:', best_accuracy, '\\nModels:', set(best_recall_models))\n",
    "print('\\nBest F1 Score:', best_f1score, '\\nModels:', set(best_f1score_models))"
   ]
  },
  {
   "cell_type": "code",
   "execution_count": null,
   "id": "c003f1d3-1a77-456e-8c2f-a549c875c19e",
   "metadata": {},
   "outputs": [],
   "source": []
  },
  {
   "cell_type": "code",
   "execution_count": null,
   "id": "7891ed0e-3e37-40c8-b147-55381d635786",
   "metadata": {},
   "outputs": [],
   "source": []
  }
 ],
 "metadata": {
  "kernelspec": {
   "display_name": "Python 3",
   "language": "python",
   "name": "python3"
  },
  "language_info": {
   "codemirror_mode": {
    "name": "ipython",
    "version": 3
   },
   "file_extension": ".py",
   "mimetype": "text/x-python",
   "name": "python",
   "nbconvert_exporter": "python",
   "pygments_lexer": "ipython3",
   "version": "3.8.8"
  }
 },
 "nbformat": 4,
 "nbformat_minor": 5
}
