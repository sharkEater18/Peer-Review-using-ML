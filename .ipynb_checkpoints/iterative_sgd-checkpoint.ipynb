{
 "cells": [
  {
   "cell_type": "code",
   "execution_count": 1,
   "id": "40c1a903-835b-455e-b582-58fa11bac9cc",
   "metadata": {},
   "outputs": [],
   "source": [
    "import warnings\n",
    "warnings.filterwarnings('ignore')"
   ]
  },
  {
   "cell_type": "code",
   "execution_count": 2,
   "id": "ffcbbda7-9a03-49f6-85e7-b800771685de",
   "metadata": {
    "tags": []
   },
   "outputs": [],
   "source": [
    "import numpy as np\n",
    "import matplotlib.pyplot as plt\n",
    "import pandas as pd"
   ]
  },
  {
   "cell_type": "code",
   "execution_count": 44,
   "id": "1b9a08f5-75dc-427a-8b05-334ffa0ee6e5",
   "metadata": {},
   "outputs": [],
   "source": [
    "train_df = pd.read_csv('data/train.csv',delimiter=',',header=None,names=['text','label'])\n",
    "val_df = pd.read_csv('data/validation.csv',delimiter=',',header=None,names=['text','label'])"
   ]
  },
  {
   "cell_type": "code",
   "execution_count": 4,
   "id": "7c247de3-7458-4baf-bddd-a4c015ef0e65",
   "metadata": {},
   "outputs": [
    {
     "name": "stdout",
     "output_type": "stream",
     "text": [
      "(16800, 2)\n",
      "(11200, 2)\n"
     ]
    }
   ],
   "source": [
    "print(train_df.shape)\n",
    "print(val_df.shape)"
   ]
  },
  {
   "cell_type": "code",
   "execution_count": 45,
   "id": "13f6f500-e43a-4c93-a704-efb2bcacbdea",
   "metadata": {},
   "outputs": [],
   "source": [
    "# Used for the test results (refer to the last section)\n",
    "import copy \n",
    "temp_df = copy.deepcopy(val_df)\n",
    "temp_df.label = temp_df.label.apply({'CL':0,'CR':1,'DC':2,'DS':3,'LO':4, 'NI':5, 'SE':6}.get)"
   ]
  },
  {
   "cell_type": "code",
   "execution_count": 46,
   "id": "99bb4575-5618-4781-b204-eae5e866f50a",
   "metadata": {},
   "outputs": [
    {
     "data": {
      "text/html": [
       "<div>\n",
       "<style scoped>\n",
       "    .dataframe tbody tr th:only-of-type {\n",
       "        vertical-align: middle;\n",
       "    }\n",
       "\n",
       "    .dataframe tbody tr th {\n",
       "        vertical-align: top;\n",
       "    }\n",
       "\n",
       "    .dataframe thead th {\n",
       "        text-align: right;\n",
       "    }\n",
       "</style>\n",
       "<table border=\"1\" class=\"dataframe\">\n",
       "  <thead>\n",
       "    <tr style=\"text-align: right;\">\n",
       "      <th></th>\n",
       "      <th>text</th>\n",
       "      <th>label</th>\n",
       "    </tr>\n",
       "  </thead>\n",
       "  <tbody>\n",
       "    <tr>\n",
       "      <th>0</th>\n",
       "      <td>Manne et al. designed the first algorithm co...</td>\n",
       "      <td>2</td>\n",
       "    </tr>\n",
       "    <tr>\n",
       "      <th>1</th>\n",
       "      <td>We consider the challenge of creating guidel...</td>\n",
       "      <td>6</td>\n",
       "    </tr>\n",
       "    <tr>\n",
       "      <th>2</th>\n",
       "      <td>Network virtualization techniques allow for ...</td>\n",
       "      <td>5</td>\n",
       "    </tr>\n",
       "    <tr>\n",
       "      <th>3</th>\n",
       "      <td>In the Min $k$-Cut problem, input is an edge...</td>\n",
       "      <td>3</td>\n",
       "    </tr>\n",
       "    <tr>\n",
       "      <th>4</th>\n",
       "      <td>We introduce the notion of being Weihrauch-c...</td>\n",
       "      <td>4</td>\n",
       "    </tr>\n",
       "  </tbody>\n",
       "</table>\n",
       "</div>"
      ],
      "text/plain": [
       "                                                text  label\n",
       "0    Manne et al. designed the first algorithm co...      2\n",
       "1    We consider the challenge of creating guidel...      6\n",
       "2    Network virtualization techniques allow for ...      5\n",
       "3    In the Min $k$-Cut problem, input is an edge...      3\n",
       "4    We introduce the notion of being Weihrauch-c...      4"
      ]
     },
     "execution_count": 46,
     "metadata": {},
     "output_type": "execute_result"
    }
   ],
   "source": [
    "temp_df.head()"
   ]
  },
  {
   "cell_type": "code",
   "execution_count": 6,
   "id": "b7f4a1ae-c8ed-4d3c-b0df-f85aadb74e3f",
   "metadata": {},
   "outputs": [],
   "source": [
    "import re\n",
    "import nltk\n",
    "from nltk.corpus import stopwords\n",
    "from nltk.stem.porter import PorterStemmer\n",
    "from nltk.tokenize import word_tokenize\n",
    "from nltk.stem import WordNetLemmatizer\n",
    "def clean(data):\n",
    "    corpus = []\n",
    "    rows = data.shape[0]\n",
    "    for i in range(0, rows):\n",
    "        title = re.sub('[^a-zA-Z]', ' ', data['text'][i])\n",
    "        title = title.lower()\n",
    "        title = word_tokenize(title)\n",
    "        # title = title.split()\n",
    "        ps = PorterStemmer()\n",
    "        lemma = WordNetLemmatizer()\n",
    "        all_stopwords = stopwords.words('english')\n",
    "        title = [lemma.lemmatize(word) for word in title if not word in set(all_stopwords)]\n",
    "        title = [ps.stem(word) for word in title if not word in set(all_stopwords)]\n",
    "        title = ' '.join(title)\n",
    "        corpus.append(title)\n",
    "    return corpus"
   ]
  },
  {
   "cell_type": "code",
   "execution_count": 7,
   "id": "c95fb765-18ba-40ba-8306-93cb113eff4d",
   "metadata": {},
   "outputs": [],
   "source": [
    "corpus_train = clean(train_df)\n",
    "corpus_val = clean(val_df)"
   ]
  },
  {
   "cell_type": "code",
   "execution_count": 8,
   "id": "f01d4337-be07-42a9-b2a9-dead438cbea9",
   "metadata": {},
   "outputs": [],
   "source": [
    "train_df['text'] = corpus_train\n",
    "train_df.label = train_df.label.apply({'CL':0,'CR':1,'DC':2,'DS':3,'LO':4, 'NI':5, 'SE':6}.get)\n",
    "val_df['text'] = corpus_val\n",
    "val_df.label = val_df.label.apply({'CL':0,'CR':1,'DC':2,'DS':3,'LO':4, 'NI':5, 'SE':6}.get)"
   ]
  },
  {
   "cell_type": "code",
   "execution_count": 9,
   "id": "68804ba5-aaa1-4ea3-996e-108c3f9afb4d",
   "metadata": {},
   "outputs": [
    {
     "data": {
      "text/html": [
       "<div>\n",
       "<style scoped>\n",
       "    .dataframe tbody tr th:only-of-type {\n",
       "        vertical-align: middle;\n",
       "    }\n",
       "\n",
       "    .dataframe tbody tr th {\n",
       "        vertical-align: top;\n",
       "    }\n",
       "\n",
       "    .dataframe thead th {\n",
       "        text-align: right;\n",
       "    }\n",
       "</style>\n",
       "<table border=\"1\" class=\"dataframe\">\n",
       "  <thead>\n",
       "    <tr style=\"text-align: right;\">\n",
       "      <th></th>\n",
       "      <th>text</th>\n",
       "      <th>label</th>\n",
       "    </tr>\n",
       "  </thead>\n",
       "  <tbody>\n",
       "    <tr>\n",
       "      <th>0</th>\n",
       "      <td>extend natur deduct approach linear nest seque...</td>\n",
       "      <td>4</td>\n",
       "    </tr>\n",
       "    <tr>\n",
       "      <th>1</th>\n",
       "      <td>last decad ieee emerg popular protocol wireles...</td>\n",
       "      <td>5</td>\n",
       "    </tr>\n",
       "    <tr>\n",
       "      <th>2</th>\n",
       "      <td>motiv problem store colour de bruijn graph sho...</td>\n",
       "      <td>3</td>\n",
       "    </tr>\n",
       "    <tr>\n",
       "      <th>3</th>\n",
       "      <td>consid downlink cellular system address proble...</td>\n",
       "      <td>5</td>\n",
       "    </tr>\n",
       "    <tr>\n",
       "      <th>4</th>\n",
       "      <td>meroit still undeciph languag ancient civil ku...</td>\n",
       "      <td>0</td>\n",
       "    </tr>\n",
       "  </tbody>\n",
       "</table>\n",
       "</div>"
      ],
      "text/plain": [
       "                                                text  label\n",
       "0  extend natur deduct approach linear nest seque...      4\n",
       "1  last decad ieee emerg popular protocol wireles...      5\n",
       "2  motiv problem store colour de bruijn graph sho...      3\n",
       "3  consid downlink cellular system address proble...      5\n",
       "4  meroit still undeciph languag ancient civil ku...      0"
      ]
     },
     "execution_count": 9,
     "metadata": {},
     "output_type": "execute_result"
    }
   ],
   "source": [
    "train_df.head()"
   ]
  },
  {
   "cell_type": "code",
   "execution_count": 10,
   "id": "04bbcc7e-69ed-40fa-a851-f9c420560dea",
   "metadata": {},
   "outputs": [
    {
     "data": {
      "text/html": [
       "<div>\n",
       "<style scoped>\n",
       "    .dataframe tbody tr th:only-of-type {\n",
       "        vertical-align: middle;\n",
       "    }\n",
       "\n",
       "    .dataframe tbody tr th {\n",
       "        vertical-align: top;\n",
       "    }\n",
       "\n",
       "    .dataframe thead th {\n",
       "        text-align: right;\n",
       "    }\n",
       "</style>\n",
       "<table border=\"1\" class=\"dataframe\">\n",
       "  <thead>\n",
       "    <tr style=\"text-align: right;\">\n",
       "      <th></th>\n",
       "      <th>text</th>\n",
       "      <th>label</th>\n",
       "    </tr>\n",
       "  </thead>\n",
       "  <tbody>\n",
       "    <tr>\n",
       "      <th>0</th>\n",
       "      <td>mann et al design first algorithm comput maxim...</td>\n",
       "      <td>2</td>\n",
       "    </tr>\n",
       "    <tr>\n",
       "      <th>1</th>\n",
       "      <td>consid challeng creat guidelin evalu qualiti s...</td>\n",
       "      <td>6</td>\n",
       "    </tr>\n",
       "    <tr>\n",
       "      <th>2</th>\n",
       "      <td>network virtual techniqu allow coexist mani vi...</td>\n",
       "      <td>5</td>\n",
       "    </tr>\n",
       "    <tr>\n",
       "      <th>3</th>\n",
       "      <td>min k cut problem input edg weight graph g int...</td>\n",
       "      <td>3</td>\n",
       "    </tr>\n",
       "    <tr>\n",
       "      <th>4</th>\n",
       "      <td>introduc notion weihrauch complet layerwis com...</td>\n",
       "      <td>4</td>\n",
       "    </tr>\n",
       "  </tbody>\n",
       "</table>\n",
       "</div>"
      ],
      "text/plain": [
       "                                                text  label\n",
       "0  mann et al design first algorithm comput maxim...      2\n",
       "1  consid challeng creat guidelin evalu qualiti s...      6\n",
       "2  network virtual techniqu allow coexist mani vi...      5\n",
       "3  min k cut problem input edg weight graph g int...      3\n",
       "4  introduc notion weihrauch complet layerwis com...      4"
      ]
     },
     "execution_count": 10,
     "metadata": {},
     "output_type": "execute_result"
    }
   ],
   "source": [
    "val_df.head()"
   ]
  },
  {
   "cell_type": "code",
   "execution_count": 11,
   "id": "b3318863-b8fd-489e-8d47-758475bd3e80",
   "metadata": {},
   "outputs": [],
   "source": [
    "from sklearn.model_selection import train_test_split\n",
    "X = val_df['text']\n",
    "y = val_df['label']\n",
    "X_val, X_test, y_val, y_test = train_test_split(X, y, test_size = 0.5, random_state = 42)"
   ]
  },
  {
   "cell_type": "code",
   "execution_count": 12,
   "id": "92d2ceb3-7cfa-4c33-9d68-afb48bc7013a",
   "metadata": {},
   "outputs": [],
   "source": [
    "test_df=pd.concat([X_test, y_test], axis=1)"
   ]
  },
  {
   "cell_type": "code",
   "execution_count": 13,
   "id": "20ba1084-dbb6-41b0-9285-b9de90d57450",
   "metadata": {},
   "outputs": [
    {
     "data": {
      "text/html": [
       "<div>\n",
       "<style scoped>\n",
       "    .dataframe tbody tr th:only-of-type {\n",
       "        vertical-align: middle;\n",
       "    }\n",
       "\n",
       "    .dataframe tbody tr th {\n",
       "        vertical-align: top;\n",
       "    }\n",
       "\n",
       "    .dataframe thead th {\n",
       "        text-align: right;\n",
       "    }\n",
       "</style>\n",
       "<table border=\"1\" class=\"dataframe\">\n",
       "  <thead>\n",
       "    <tr style=\"text-align: right;\">\n",
       "      <th></th>\n",
       "      <th>text</th>\n",
       "      <th>label</th>\n",
       "    </tr>\n",
       "  </thead>\n",
       "  <tbody>\n",
       "    <tr>\n",
       "      <th>3532</th>\n",
       "      <td>show np complet existenti theori term algebra ...</td>\n",
       "      <td>4</td>\n",
       "    </tr>\n",
       "    <tr>\n",
       "      <th>2899</th>\n",
       "      <td>rapid advanc sens network comput technolog rec...</td>\n",
       "      <td>5</td>\n",
       "    </tr>\n",
       "    <tr>\n",
       "      <th>3822</th>\n",
       "      <td>problem oblivi ram oram tradit studi singl ser...</td>\n",
       "      <td>1</td>\n",
       "    </tr>\n",
       "    <tr>\n",
       "      <th>5846</th>\n",
       "      <td>secur multi parti comput wide studi area compu...</td>\n",
       "      <td>1</td>\n",
       "    </tr>\n",
       "    <tr>\n",
       "      <th>9036</th>\n",
       "      <td>paper first present analyt discuss energi effi...</td>\n",
       "      <td>5</td>\n",
       "    </tr>\n",
       "  </tbody>\n",
       "</table>\n",
       "</div>"
      ],
      "text/plain": [
       "                                                   text  label\n",
       "3532  show np complet existenti theori term algebra ...      4\n",
       "2899  rapid advanc sens network comput technolog rec...      5\n",
       "3822  problem oblivi ram oram tradit studi singl ser...      1\n",
       "5846  secur multi parti comput wide studi area compu...      1\n",
       "9036  paper first present analyt discuss energi effi...      5"
      ]
     },
     "execution_count": 13,
     "metadata": {},
     "output_type": "execute_result"
    }
   ],
   "source": [
    "test_df.head()"
   ]
  },
  {
   "cell_type": "code",
   "execution_count": 14,
   "id": "5ae97897-5e6d-4896-8fa8-e33305e3300a",
   "metadata": {},
   "outputs": [],
   "source": [
    "# For validation using K-Fold Cross Validation\n",
    "# text = np.array(val_df['text'])\n",
    "# label = np.array(val_df['label'])\n",
    "\n",
    "text = np.array(train_df['text'])\n",
    "label = np.array(train_df['label'])"
   ]
  },
  {
   "cell_type": "code",
   "execution_count": 15,
   "id": "e8c78bc5-cc76-4cc2-bef3-09e13e6f70db",
   "metadata": {},
   "outputs": [],
   "source": [
    "text_train = train_df['text']\n",
    "text_test = test_df['text']\n",
    "label_train = train_df['label']\n",
    "label_test = test_df['label']"
   ]
  },
  {
   "cell_type": "code",
   "execution_count": 16,
   "id": "fb5f1118-065e-4551-b791-1807802359ce",
   "metadata": {},
   "outputs": [],
   "source": [
    "from sklearn.feature_extraction.text import TfidfVectorizer\n",
    "# build TFIDF features on train reviews\n",
    "tv = TfidfVectorizer(min_df=0.0, max_df=1.0, ngram_range=(1,2),\n",
    "                     sublinear_tf=True)\n",
    "tv_train_features = tv.fit_transform(text_train)"
   ]
  },
  {
   "cell_type": "code",
   "execution_count": 17,
   "id": "e6d3aaed-f161-40ca-8fb2-845900811eb5",
   "metadata": {},
   "outputs": [],
   "source": [
    "# transform test reviews into features\n",
    "tv_test_features = tv.transform(text_test)"
   ]
  },
  {
   "cell_type": "code",
   "execution_count": 18,
   "id": "0f020120-5254-42fa-8347-f91b203de2ed",
   "metadata": {},
   "outputs": [
    {
     "name": "stdout",
     "output_type": "stream",
     "text": [
      "TFIDF model:> Train features shape: (16800, 727983)  Test features shape: (5600, 727983)\n"
     ]
    }
   ],
   "source": [
    "print('TFIDF model:> Train features shape:', tv_train_features.shape, ' Test features shape:', tv_test_features.shape)"
   ]
  },
  {
   "cell_type": "code",
   "execution_count": 19,
   "id": "dd0ed323-92cf-4454-857d-7243a87cb4a3",
   "metadata": {},
   "outputs": [],
   "source": [
    "# Report for all models\n",
    "from collections import defaultdict\n",
    "scores = defaultdict(lambda: [0] * 4)"
   ]
  },
  {
   "cell_type": "code",
   "execution_count": 20,
   "id": "f7ccb8f8-9732-4171-9212-594f6413137d",
   "metadata": {},
   "outputs": [],
   "source": [
    "####Evaluation metrics\n",
    "from sklearn import metrics\n",
    "from sklearn.preprocessing import LabelEncoder\n",
    "from sklearn.base import clone\n",
    "from sklearn.preprocessing import label_binarize\n",
    "from scipy import interp\n",
    "from sklearn.metrics import roc_curve, auc \n",
    "from sklearn.model_selection import cross_val_score\n",
    "from sklearn.model_selection import StratifiedKFold\n",
    "import seaborn as sns\n",
    "\n",
    "\n",
    "def fetch_scores(classifier_name ,true_labels, predicted_labels):\n",
    "    scores[classifier_name][0]=(np.round(metrics.accuracy_score(true_labels, predicted_labels), 4))\n",
    "    scores[classifier_name][1]=(np.round(metrics.precision_score(true_labels, predicted_labels, average='weighted'), 4))\n",
    "    scores[classifier_name][2]=(np.round(metrics.recall_score(true_labels, predicted_labels, average='weighted'), 4))\n",
    "    scores[classifier_name][3]=(np.round(metrics.f1_score(true_labels, predicted_labels, average='weighted'), 4))\n",
    "    \n",
    "\n",
    "def get_metrics(true_labels, predicted_labels):\n",
    "    \n",
    "    print('Accuracy:', np.round(\n",
    "                        metrics.accuracy_score(true_labels, \n",
    "                                               predicted_labels),\n",
    "                        4))\n",
    "    print('Precision:', np.round(\n",
    "                        metrics.precision_score(true_labels, \n",
    "                                               predicted_labels,\n",
    "                                               average='weighted'),\n",
    "                        4))\n",
    "    print('Recall:', np.round(\n",
    "                        metrics.recall_score(true_labels, \n",
    "                                               predicted_labels,\n",
    "                                               average='weighted'),\n",
    "                        4))\n",
    "    print('F1 Score:', np.round(\n",
    "                        metrics.f1_score(true_labels, \n",
    "                                               predicted_labels,\n",
    "                                               average='weighted'),\n",
    "                        4))\n",
    "                        \n",
    "\n",
    "def train_predict_model(classifier, \n",
    "                        train_features, train_labels, \n",
    "                        test_features, test_labels):\n",
    "    # build model    \n",
    "    classifier.fit(train_features, train_labels)\n",
    "    # predict using model\n",
    "    predictions = classifier.predict(test_features) \n",
    "    return predictions    \n",
    "\n",
    "\n",
    "def cross_validate_model(classifier, \n",
    "                        text, label, k=5):\n",
    "    print('\\nModel Validation Report:')\n",
    "    print('-'*30)\n",
    "    # build model    \n",
    "    classifier.fit(text, label)\n",
    "    # validate the model\n",
    "    scores = cross_val_score(classifier, text, label, cv=k)\n",
    "    for i in range(len(scores)):\n",
    "        print('Fold', i + 1,':', np.round(scores[i], 2))\n",
    "    print('\\nMin Score:', np.round(np.array(scores).min(), 4))\n",
    "    print('Max Score:', np.round(np.array(scores).max(), 4))\n",
    "    print('Mean Score:', np.round(np.array(scores).mean(), 4))\n",
    "\n",
    "\n",
    "def stratified_cross_validate_model(classifier, \n",
    "                        text, label, k=5):\n",
    "    print('\\nModel Validation Report:')\n",
    "    print('-'*30)\n",
    "    \n",
    "    skf = StratifiedKFold(n_splits=k, random_state=None)\n",
    "    skf.get_n_splits(text, label)\n",
    "    \n",
    "    scores = []\n",
    "    for train_index, test_index in skf.split(text, label):\n",
    "        # print(\"TRAIN:\", train_index, \"TEST:\", test_index)\n",
    "        X_train, X_test = text[train_index], text[test_index]\n",
    "        y_train, y_test = label[train_index], label[test_index]\n",
    "        \n",
    "        classifier.fit(X_train, y_train)\n",
    "        y_pred = classifier.predict(X_test)\n",
    "        \n",
    "        accuracy = metrics.accuracy_score(y_test, y_pred)\n",
    "        scores.append(accuracy)\n",
    "\n",
    "    for i in range(len(scores)):\n",
    "        print('Fold', i + 1,':', np.round(scores[i], 2))\n",
    "    print('\\nMin Score:', np.round(np.array(scores).min(), 4))\n",
    "    print('Max Score:', np.round(np.array(scores).max(), 4))\n",
    "    print('Mean Score:', np.round(np.array(scores).mean(), 4))    \n",
    "    \n",
    "    \n",
    "def display_confusion_matrix(true_labels, predicted_labels, classes=[1,0]):\n",
    "    \n",
    "    total_classes = len(classes)\n",
    "    level_labels = [total_classes*[0], list(range(total_classes))]\n",
    "\n",
    "    cm = metrics.confusion_matrix(y_true=true_labels, y_pred=predicted_labels, \n",
    "                                  labels=classes)\n",
    "    \n",
    "    labels = classes\n",
    "    print(cm)\n",
    "    fig = plt.figure()\n",
    "    ax = fig.add_subplot(111)\n",
    "    cax = ax.matshow(cm)\n",
    "    plt.title('Confusion matrix of the classifier')\n",
    "    fig.colorbar(cax)\n",
    "    ax.set_xticklabels([''] + labels)\n",
    "    ax.set_yticklabels([''] + labels)\n",
    "    plt.xlabel('Predicted')\n",
    "    plt.ylabel('True')\n",
    "    plt.show()\n",
    "    \n",
    "    \n",
    "def display_classification_report(true_labels, predicted_labels, classes=[1,0]):\n",
    "\n",
    "    report = metrics.classification_report(y_true=true_labels, \n",
    "                                           y_pred=predicted_labels, \n",
    "                                           labels=classes) \n",
    "    print(report)\n",
    "    \n",
    "    \n",
    "    \n",
    "def display_model_performance_metrics(true_labels, predicted_labels, classes=[1,0]):\n",
    "    print('Model Performance metrics:')\n",
    "    print('-'*30)\n",
    "    get_metrics(true_labels=true_labels, predicted_labels=predicted_labels)\n",
    "    print('\\nModel Classification report:')\n",
    "    print('-'*30)\n",
    "    display_classification_report(true_labels=true_labels, predicted_labels=predicted_labels, \n",
    "                                  classes=classes)\n",
    "    print('\\nPrediction Confusion Matrix:')\n",
    "    print('-'*30)\n",
    "    display_confusion_matrix(true_labels=true_labels, predicted_labels=predicted_labels, \n",
    "                             classes=classes)\n"
   ]
  },
  {
   "cell_type": "markdown",
   "id": "23cda5d0-8fa4-4df7-a061-86f3f8f3be24",
   "metadata": {},
   "source": [
    "# SGD (TF-IDF)"
   ]
  },
  {
   "cell_type": "code",
   "execution_count": 21,
   "id": "360869d5-e5de-4092-81d4-1f0d772b5e52",
   "metadata": {},
   "outputs": [
    {
     "name": "stdout",
     "output_type": "stream",
     "text": [
      "Model Performance metrics:\n",
      "------------------------------\n",
      "Accuracy: 0.9304\n",
      "Precision: 0.9302\n",
      "Recall: 0.9304\n",
      "F1 Score: 0.9302\n",
      "\n",
      "Model Classification report:\n",
      "------------------------------\n",
      "              precision    recall  f1-score   support\n",
      "\n",
      "           0       0.98      0.98      0.98       934\n",
      "           1       0.93      0.92      0.93       946\n",
      "           2       0.87      0.85      0.86       647\n",
      "           3       0.94      0.95      0.94       891\n",
      "           4       0.94      0.94      0.94       615\n",
      "           5       0.93      0.92      0.93       919\n",
      "           6       0.90      0.92      0.91       648\n",
      "\n",
      "    accuracy                           0.93      5600\n",
      "   macro avg       0.93      0.93      0.93      5600\n",
      "weighted avg       0.93      0.93      0.93      5600\n",
      "\n",
      "\n",
      "Prediction Confusion Matrix:\n",
      "------------------------------\n",
      "[[919   2   0   1   6   0   6]\n",
      " [  3 867  12   9  10  25  20]\n",
      " [  2  17 548  28   1  31  20]\n",
      " [  1   3  25 850   6   5   1]\n",
      " [  3   4   6  11 578   0  13]\n",
      " [  3  28  24   8   1 849   6]\n",
      " [  7   7  14   1  14   6 599]]\n"
     ]
    },
    {
     "data": {
      "image/png": "[encoded data removed]",
      "text/plain": [
       "<Figure size 432x288 with 2 Axes>"
      ]
     },
     "metadata": {
      "needs_background": "light"
     },
     "output_type": "display_data"
    }
   ],
   "source": [
    "# SGD on TF-IDF \n",
    "from sklearn.linear_model import SGDClassifier\n",
    "\n",
    "sgd = SGDClassifier(loss='epsilon_insensitive', epsilon=0.6, max_iter = 100)\n",
    "\n",
    "sgd_tfidf_predictions = train_predict_model(classifier=sgd, \n",
    "                                                train_features=tv_train_features, train_labels=label_train,\n",
    "                                                test_features=tv_test_features, test_labels=label_test)\n",
    "\n",
    "display_model_performance_metrics(true_labels=label_test, predicted_labels=sgd_tfidf_predictions,\n",
    "                                      classes=[0,1,2,3,4,5,6])\n",
    "\n",
    "fetch_scores(classifier_name = 'Stochastic Gradient Descent', true_labels=label_test, \n",
    "                                     predicted_labels=sgd_tfidf_predictions)\n",
    "\n",
    "    \n",
    "# cross_validate_model(classifier=sgd, text=tv.fit_transform(text), label=label, k=10)\n",
    "\n",
    "# stratified_cross_validate_model(classifier=sgd, text=tv.fit_transform(text), label=label, k=10)"
   ]
  },
  {
   "cell_type": "markdown",
   "id": "9cd90cf9-eb8e-4b6c-bf03-cadc476a4469",
   "metadata": {},
   "source": [
    "# Finding Best Model"
   ]
  },
  {
   "cell_type": "markdown",
   "id": "f3ac98c8-c77a-456e-9c67-2becc95b0c43",
   "metadata": {},
   "source": [
    "### Iterative SGD Model"
   ]
  },
  {
   "cell_type": "code",
   "execution_count": 22,
   "id": "3ba5bd57-39e6-4186-b006-7399567fc257",
   "metadata": {},
   "outputs": [
    {
     "name": "stdout",
     "output_type": "stream",
     "text": [
      "Best Accuracy: 0.9329\n"
     ]
    }
   ],
   "source": [
    "from sklearn.linear_model import SGDClassifier\n",
    "\n",
    "best_acc = 0.0\n",
    "best_model = SGDClassifier(loss='epsilon_insensitive', epsilon=0.6)\n",
    "acc = 0\n",
    "iter = 0\n",
    "max_iter = 1000\n",
    "\n",
    "while best_acc <= 0.94 and iter <= max_iter:\n",
    "    model = SGDClassifier(loss='epsilon_insensitive', epsilon=0.6)\n",
    "    model.fit(tv_train_features, label_train)\n",
    "    predicted_labels = model.predict(tv_test_features) \n",
    "    acc =  max(acc, metrics.accuracy_score(label_test, predicted_labels))\n",
    "    if best_acc < acc: \n",
    "        best_acc = acc\n",
    "        best_model = model\n",
    "    iter += 1\n",
    "    # print(np.round(acc, 4), np.round(best_acc, 4))\n",
    "    # print(metrics.accuracy_score(label_test, predicted_labels))\n",
    "    # print()\n",
    "    \n",
    "print('Best Accuracy:', np.round(best_acc, 4))\n",
    "fetch_scores(classifier_name = 'Stochastic Gradient Descent (Iterative)', true_labels=label_test, \n",
    "                                     predicted_labels=best_model.predict(tv_test_features))"
   ]
  },
  {
   "cell_type": "code",
   "execution_count": 23,
   "id": "85fb18d7-65f8-46f6-9923-7efe19eb1ed9",
   "metadata": {},
   "outputs": [
    {
     "data": {
      "text/plain": [
       "0.9991071428571429"
      ]
     },
     "execution_count": 23,
     "metadata": {},
     "output_type": "execute_result"
    }
   ],
   "source": [
    "metrics.accuracy_score(label_train, model.predict(tv_train_features))"
   ]
  },
  {
   "cell_type": "markdown",
   "id": "2fe8d7ef-077f-4559-a166-cf1cb3d68093",
   "metadata": {},
   "source": [
    "# All Model Report"
   ]
  },
  {
   "cell_type": "code",
   "execution_count": 24,
   "id": "905dfc53-7f45-4510-abea-f6a6102c5114",
   "metadata": {
    "tags": []
   },
   "outputs": [
    {
     "name": "stdout",
     "output_type": "stream",
     "text": [
      "defaultdict(<function <lambda> at 0x00000296EA70C670>, {'Stochastic Gradient Descent': [0.9304, 0.9302, 0.9304, 0.9302], 'Stochastic Gradient Descent (Iterative)': [0.9329, 0.9327, 0.9329, 0.9328]})\n"
     ]
    }
   ],
   "source": [
    "print(scores)"
   ]
  },
  {
   "cell_type": "code",
   "execution_count": 25,
   "id": "a020cdf9-765c-408b-8384-eee323e81646",
   "metadata": {},
   "outputs": [
    {
     "name": "stdout",
     "output_type": "stream",
     "text": [
      "Stochastic Gradient Descent\n",
      "---------------------------------\n",
      "  Accuracy             0.9304\n",
      "  Precision            0.9302\n",
      "  Recall               0.9304\n",
      "  F1 Score             0.9302\n",
      "\n",
      "Stochastic Gradient Descent (Iterative)\n",
      "---------------------------------\n",
      "  Accuracy             0.9329\n",
      "  Precision            0.9327\n",
      "  Recall               0.9329\n",
      "  F1 Score             0.9328\n",
      "\n"
     ]
    }
   ],
   "source": [
    "mp = {0: 'Accuracy', 1: 'Precision', 2: 'Recall', 3: 'F1 Score'}\n",
    "best_accuracy, best_precision, best_recall, best_f1score = 0.0, 0.0, 0.0, 0.0\n",
    "for model, parameters in scores.items():\n",
    "    print(model)\n",
    "    print('-'*33)\n",
    "    i = 0\n",
    "    for p in parameters:\n",
    "        best_accuracy = max(best_accuracy, parameters[0])\n",
    "        best_precision = max(best_precision, parameters[1])\n",
    "        best_recall = max(best_recall, parameters[2])\n",
    "        best_f1score = max(best_f1score, parameters[3])\n",
    "        print(' ', mp[i] + (' ' * (20-len(mp[i]))), p)\n",
    "        i = i+1\n",
    "    print('')"
   ]
  },
  {
   "cell_type": "code",
   "execution_count": 26,
   "id": "79098708-c8df-4571-b1bf-3c9bf6e4a5ff",
   "metadata": {},
   "outputs": [
    {
     "name": "stdout",
     "output_type": "stream",
     "text": [
      "Best Accuracy: 0.9329 \n",
      "Models: {'Stochastic Gradient Descent (Iterative)'}\n",
      "\n",
      "Best Precision: 0.9327 \n",
      "Models: {'Stochastic Gradient Descent (Iterative)'}\n",
      "\n",
      "Best Recall: 0.9329 \n",
      "Models: {'Stochastic Gradient Descent (Iterative)'}\n",
      "\n",
      "Best F1 Score: 0.9328 \n",
      "Models: {'Stochastic Gradient Descent (Iterative)'}\n"
     ]
    }
   ],
   "source": [
    "best_accuracy_models, best_precision_models, best_recall_models, best_f1score_models = [], [], [], []\n",
    "for model, parameters in scores.items():\n",
    "    i = 0\n",
    "    for p in parameters:\n",
    "        if parameters[0] is best_accuracy: best_accuracy_models.append(model)\n",
    "        if parameters[1] is best_precision: best_precision_models.append(model)\n",
    "        if parameters[2] is best_recall: best_recall_models.append(model)\n",
    "        if parameters[3] is best_f1score: best_f1score_models.append(model)\n",
    "        i = i+1\n",
    "\n",
    "print('Best Accuracy:', best_accuracy, '\\nModels:', set(best_accuracy_models))\n",
    "print('\\nBest Precision:', best_precision, '\\nModels:', set(best_precision_models))\n",
    "print('\\nBest Recall:', best_accuracy, '\\nModels:', set(best_recall_models))\n",
    "print('\\nBest F1 Score:', best_f1score, '\\nModels:', set(best_f1score_models))"
   ]
  },
  {
   "cell_type": "markdown",
   "id": "becddab7-8f5c-4502-9672-f8e3e97274c7",
   "metadata": {
    "tags": []
   },
   "source": [
    "# User Prediction Section"
   ]
  },
  {
   "cell_type": "code",
   "execution_count": 27,
   "id": "5b6b0858-027f-42bd-9045-53d5db993dcc",
   "metadata": {},
   "outputs": [],
   "source": [
    "hash_mp = {0:'CL', 1:'CR', 2:'DC', 3:'DS', 4:'LO', 5:'NI', 6:'SE'}\n",
    "def user_predict(abstract, model):\n",
    "    processed_abstract = re.sub('[^a-zA-Z]', ' ', abstract)\n",
    "    processed_abstract = processed_abstract.lower()\n",
    "    processed_abstract = word_tokenize(processed_abstract)\n",
    "    ps = PorterStemmer()\n",
    "    lemma = WordNetLemmatizer()\n",
    "    all_stopwords = stopwords.words('english')\n",
    "    processed_abstract = [lemma.lemmatize(word) for word in processed_abstract if not word in set(all_stopwords)]\n",
    "    processed_abstract = [ps.stem(word) for word in processed_abstract if not word in set(all_stopwords)]\n",
    "    processed_abstract = ' '.join(processed_abstract)\n",
    "    category = model.predict(tv.transform([processed_abstract]))\n",
    "    # print(hash_mp[category[0]])\n",
    "    return hash_mp[category[0]]"
   ]
  },
  {
   "cell_type": "code",
   "execution_count": 28,
   "id": "aa207e30-3954-471e-9ee3-729dc9931a4b",
   "metadata": {},
   "outputs": [
    {
     "name": "stdout",
     "output_type": "stream",
     "text": [
      "LO\n"
     ]
    }
   ],
   "source": [
    "model = best_model# Chose a model\n",
    "abstract = train_df['text'][0]# String\n",
    "print(user_predict(abstract, model))"
   ]
  },
  {
   "cell_type": "code",
   "execution_count": 29,
   "id": "9460e3d2-82ee-424f-b33b-b52526a5a542",
   "metadata": {},
   "outputs": [],
   "source": [
    "# 4 5 3 5 0"
   ]
  },
  {
   "cell_type": "markdown",
   "id": "1e44d699-1aa5-4d00-950d-0be9791a5352",
   "metadata": {},
   "source": [
    "# Save File"
   ]
  },
  {
   "cell_type": "code",
   "execution_count": 47,
   "id": "665787d7-118a-4df0-afbd-1986bd51c603",
   "metadata": {},
   "outputs": [
    {
     "data": {
      "text/html": [
       "<div>\n",
       "<style scoped>\n",
       "    .dataframe tbody tr th:only-of-type {\n",
       "        vertical-align: middle;\n",
       "    }\n",
       "\n",
       "    .dataframe tbody tr th {\n",
       "        vertical-align: top;\n",
       "    }\n",
       "\n",
       "    .dataframe thead th {\n",
       "        text-align: right;\n",
       "    }\n",
       "</style>\n",
       "<table border=\"1\" class=\"dataframe\">\n",
       "  <thead>\n",
       "    <tr style=\"text-align: right;\">\n",
       "      <th></th>\n",
       "      <th>text</th>\n",
       "      <th>label</th>\n",
       "    </tr>\n",
       "  </thead>\n",
       "  <tbody>\n",
       "    <tr>\n",
       "      <th>0</th>\n",
       "      <td>Manne et al. designed the first algorithm co...</td>\n",
       "      <td>2</td>\n",
       "    </tr>\n",
       "    <tr>\n",
       "      <th>1</th>\n",
       "      <td>We consider the challenge of creating guidel...</td>\n",
       "      <td>6</td>\n",
       "    </tr>\n",
       "    <tr>\n",
       "      <th>2</th>\n",
       "      <td>Network virtualization techniques allow for ...</td>\n",
       "      <td>5</td>\n",
       "    </tr>\n",
       "    <tr>\n",
       "      <th>3</th>\n",
       "      <td>In the Min $k$-Cut problem, input is an edge...</td>\n",
       "      <td>3</td>\n",
       "    </tr>\n",
       "    <tr>\n",
       "      <th>4</th>\n",
       "      <td>We introduce the notion of being Weihrauch-c...</td>\n",
       "      <td>4</td>\n",
       "    </tr>\n",
       "  </tbody>\n",
       "</table>\n",
       "</div>"
      ],
      "text/plain": [
       "                                                text  label\n",
       "0    Manne et al. designed the first algorithm co...      2\n",
       "1    We consider the challenge of creating guidel...      6\n",
       "2    Network virtualization techniques allow for ...      5\n",
       "3    In the Min $k$-Cut problem, input is an edge...      3\n",
       "4    We introduce the notion of being Weihrauch-c...      4"
      ]
     },
     "execution_count": 47,
     "metadata": {},
     "output_type": "execute_result"
    }
   ],
   "source": [
    "temp_df.head()"
   ]
  },
  {
   "cell_type": "code",
   "execution_count": 50,
   "id": "d958926c-8887-4aba-b59c-170181689ce0",
   "metadata": {},
   "outputs": [],
   "source": [
    "X_tmp = temp_df['text']\n",
    "y_tmp = temp_df['label']\n",
    "X_val_tmp, X_test_tmp, y_val_tmp, y_test_tmp = train_test_split(X_tmp, y_tmp, test_size = 0.5, random_state = 42)"
   ]
  },
  {
   "cell_type": "code",
   "execution_count": 51,
   "id": "b9bf3726-0920-4174-b6da-4771fd9664d6",
   "metadata": {},
   "outputs": [],
   "source": [
    "df_results_sgd_tmp = pd.DataFrame(list(zip(X_test_tmp, label_test.tolist(),sgd_tfidf_predictions.tolist())),\n",
    "                          columns = ['text','true_labels','pred_labels'])"
   ]
  },
  {
   "cell_type": "code",
   "execution_count": 52,
   "id": "f893d537-ef79-4863-bbe5-3478f5545e10",
   "metadata": {},
   "outputs": [
    {
     "data": {
      "text/html": [
       "<div>\n",
       "<style scoped>\n",
       "    .dataframe tbody tr th:only-of-type {\n",
       "        vertical-align: middle;\n",
       "    }\n",
       "\n",
       "    .dataframe tbody tr th {\n",
       "        vertical-align: top;\n",
       "    }\n",
       "\n",
       "    .dataframe thead th {\n",
       "        text-align: right;\n",
       "    }\n",
       "</style>\n",
       "<table border=\"1\" class=\"dataframe\">\n",
       "  <thead>\n",
       "    <tr style=\"text-align: right;\">\n",
       "      <th></th>\n",
       "      <th>text</th>\n",
       "      <th>true_labels</th>\n",
       "      <th>pred_labels</th>\n",
       "    </tr>\n",
       "  </thead>\n",
       "  <tbody>\n",
       "    <tr>\n",
       "      <th>0</th>\n",
       "      <td>We show the NP-completeness of the existenti...</td>\n",
       "      <td>4</td>\n",
       "      <td>4</td>\n",
       "    </tr>\n",
       "    <tr>\n",
       "      <th>1</th>\n",
       "      <td>With rapid advancements in sensing, networki...</td>\n",
       "      <td>5</td>\n",
       "      <td>5</td>\n",
       "    </tr>\n",
       "    <tr>\n",
       "      <th>2</th>\n",
       "      <td>The problem of Oblivious RAM (ORAM) has trad...</td>\n",
       "      <td>1</td>\n",
       "      <td>1</td>\n",
       "    </tr>\n",
       "    <tr>\n",
       "      <th>3</th>\n",
       "      <td>secure multi-party computation is widely stu...</td>\n",
       "      <td>1</td>\n",
       "      <td>1</td>\n",
       "    </tr>\n",
       "    <tr>\n",
       "      <th>4</th>\n",
       "      <td>In this paper, we first presented an analyti...</td>\n",
       "      <td>5</td>\n",
       "      <td>5</td>\n",
       "    </tr>\n",
       "  </tbody>\n",
       "</table>\n",
       "</div>"
      ],
      "text/plain": [
       "                                                text  true_labels  pred_labels\n",
       "0    We show the NP-completeness of the existenti...            4            4\n",
       "1    With rapid advancements in sensing, networki...            5            5\n",
       "2    The problem of Oblivious RAM (ORAM) has trad...            1            1\n",
       "3    secure multi-party computation is widely stu...            1            1\n",
       "4    In this paper, we first presented an analyti...            5            5"
      ]
     },
     "execution_count": 52,
     "metadata": {},
     "output_type": "execute_result"
    }
   ],
   "source": [
    "df_results_sgd_tmp.head()"
   ]
  },
  {
   "cell_type": "code",
   "execution_count": 53,
   "id": "26a030ac-3c18-4667-b77f-e36ef9288ed1",
   "metadata": {},
   "outputs": [],
   "source": [
    "df_results_sgd_tmp.to_csv('df_results_sgd.csv')"
   ]
  },
  {
   "cell_type": "code",
   "execution_count": 57,
   "id": "96060c5a-5613-416a-a4b6-fb053ec507ce",
   "metadata": {},
   "outputs": [
    {
     "name": "stdout",
     "output_type": "stream",
     "text": [
      "390\n"
     ]
    }
   ],
   "source": [
    "trueLabels = df_results_sgd_tmp['true_labels']\n",
    "predLabels = df_results_sgd_tmp['pred_labels']\n",
    "\n",
    "\n",
    "wrongLabels_true = []\n",
    "wrongLabels_pred = []\n",
    "wrongText = []\n",
    "cnt = 0\n",
    "for i in range(len(trueLabels)):\n",
    "    if trueLabels[i] != predLabels[i]:\n",
    "        cnt += 1\n",
    "        wrongLabels_true.append(trueLabels[i])\n",
    "        wrongLabels_pred.append(predLabels[i])\n",
    "        wrongText.append(temp_df['text'][i])    \n",
    "print(cnt)"
   ]
  },
  {
   "cell_type": "code",
   "execution_count": 58,
   "id": "ce578580-a173-4603-aec0-67583a395796",
   "metadata": {},
   "outputs": [],
   "source": [
    "df_results_sgd_tmp_wrong = pd.DataFrame(list(zip(wrongText, wrongLabels_true,wrongLabels_pred)),\n",
    "                          columns = ['text','true_labels','pred_labels'])"
   ]
  },
  {
   "cell_type": "code",
   "execution_count": 59,
   "id": "a18feeda-162a-4713-ba8f-2172a3475846",
   "metadata": {},
   "outputs": [
    {
     "data": {
      "text/html": [
       "<div>\n",
       "<style scoped>\n",
       "    .dataframe tbody tr th:only-of-type {\n",
       "        vertical-align: middle;\n",
       "    }\n",
       "\n",
       "    .dataframe tbody tr th {\n",
       "        vertical-align: top;\n",
       "    }\n",
       "\n",
       "    .dataframe thead th {\n",
       "        text-align: right;\n",
       "    }\n",
       "</style>\n",
       "<table border=\"1\" class=\"dataframe\">\n",
       "  <thead>\n",
       "    <tr style=\"text-align: right;\">\n",
       "      <th></th>\n",
       "      <th>text</th>\n",
       "      <th>true_labels</th>\n",
       "      <th>pred_labels</th>\n",
       "    </tr>\n",
       "  </thead>\n",
       "  <tbody>\n",
       "    <tr>\n",
       "      <th>0</th>\n",
       "      <td>In a significant minority of cases, certain ...</td>\n",
       "      <td>6</td>\n",
       "      <td>1</td>\n",
       "    </tr>\n",
       "    <tr>\n",
       "      <th>1</th>\n",
       "      <td>In modern programming languages, exception h...</td>\n",
       "      <td>5</td>\n",
       "      <td>3</td>\n",
       "    </tr>\n",
       "    <tr>\n",
       "      <th>2</th>\n",
       "      <td>Developer forums contain opinions and inform...</td>\n",
       "      <td>5</td>\n",
       "      <td>1</td>\n",
       "    </tr>\n",
       "    <tr>\n",
       "      <th>3</th>\n",
       "      <td>In this paper we propose a cycle redundancy ...</td>\n",
       "      <td>4</td>\n",
       "      <td>3</td>\n",
       "    </tr>\n",
       "    <tr>\n",
       "      <th>4</th>\n",
       "      <td>We propose a new dataset for evaluating ques...</td>\n",
       "      <td>3</td>\n",
       "      <td>2</td>\n",
       "    </tr>\n",
       "  </tbody>\n",
       "</table>\n",
       "</div>"
      ],
      "text/plain": [
       "                                                text  true_labels  pred_labels\n",
       "0    In a significant minority of cases, certain ...            6            1\n",
       "1    In modern programming languages, exception h...            5            3\n",
       "2    Developer forums contain opinions and inform...            5            1\n",
       "3    In this paper we propose a cycle redundancy ...            4            3\n",
       "4    We propose a new dataset for evaluating ques...            3            2"
      ]
     },
     "execution_count": 59,
     "metadata": {},
     "output_type": "execute_result"
    }
   ],
   "source": [
    "df_results_sgd_tmp_wrong.head()"
   ]
  },
  {
   "cell_type": "code",
   "execution_count": 61,
   "id": "f5de37c5-5cfc-4ce8-83a7-b632687148c6",
   "metadata": {},
   "outputs": [],
   "source": [
    "df_results_sgd_tmp_wrong.to_csv('df_results_sgd_wrong.csv')"
   ]
  },
  {
   "cell_type": "code",
   "execution_count": 62,
   "id": "be97df14-935d-41ca-96f0-ef9cd065b66e",
   "metadata": {},
   "outputs": [],
   "source": [
    "##"
   ]
  }
 ],
 "metadata": {
  "kernelspec": {
   "display_name": "Python 3",
   "language": "python",
   "name": "python3"
  },
  "language_info": {
   "codemirror_mode": {
    "name": "ipython",
    "version": 3
   },
   "file_extension": ".py",
   "mimetype": "text/x-python",
   "name": "python",
   "nbconvert_exporter": "python",
   "pygments_lexer": "ipython3",
   "version": "3.8.8"
  }
 },
 "nbformat": 4,
 "nbformat_minor": 5
}
