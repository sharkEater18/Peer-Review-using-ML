{
 "cells": [
  {
   "cell_type": "code",
   "execution_count": 1,
   "metadata": {
    "execution": {
     "iopub.execute_input": "2021-07-02T18:39:26.070311Z",
     "iopub.status.busy": "2021-07-02T18:39:26.069350Z",
     "iopub.status.idle": "2021-07-02T18:39:26.080050Z",
     "shell.execute_reply": "2021-07-02T18:39:26.079092Z",
     "shell.execute_reply.started": "2021-07-02T18:39:26.070183Z"
    }
   },
   "outputs": [],
   "source": [
    "import warnings\n",
    "warnings.filterwarnings('ignore')"
   ]
  },
  {
   "cell_type": "code",
   "execution_count": 2,
   "metadata": {
    "execution": {
     "iopub.execute_input": "2021-07-02T18:39:26.082015Z",
     "iopub.status.busy": "2021-07-02T18:39:26.081517Z",
     "iopub.status.idle": "2021-07-02T18:39:26.093754Z",
     "shell.execute_reply": "2021-07-02T18:39:26.092926Z",
     "shell.execute_reply.started": "2021-07-02T18:39:26.081969Z"
    },
    "tags": []
   },
   "outputs": [],
   "source": [
    "import numpy as np\n",
    "import matplotlib.pyplot as plt\n",
    "import pandas as pd"
   ]
  },
  {
   "cell_type": "code",
   "execution_count": 3,
   "metadata": {
    "execution": {
     "iopub.execute_input": "2021-07-02T18:39:26.096681Z",
     "iopub.status.busy": "2021-07-02T18:39:26.096030Z",
     "iopub.status.idle": "2021-07-02T18:39:26.901933Z",
     "shell.execute_reply": "2021-07-02T18:39:26.900810Z",
     "shell.execute_reply.started": "2021-07-02T18:39:26.096629Z"
    }
   },
   "outputs": [],
   "source": [
    "train_df = pd.read_csv('../input/my-data/train.csv',delimiter=',',header=None,names=['text','label'])\n",
    "val_df = pd.read_csv('../input/my-data/validation.csv',delimiter=',',header=None,names=['text','label'])"
   ]
  },
  {
   "cell_type": "code",
   "execution_count": 4,
   "metadata": {
    "execution": {
     "iopub.execute_input": "2021-07-02T18:39:26.904129Z",
     "iopub.status.busy": "2021-07-02T18:39:26.903780Z",
     "iopub.status.idle": "2021-07-02T18:39:26.909617Z",
     "shell.execute_reply": "2021-07-02T18:39:26.908552Z",
     "shell.execute_reply.started": "2021-07-02T18:39:26.904094Z"
    }
   },
   "outputs": [
    {
     "name": "stdout",
     "output_type": "stream",
     "text": [
      "(16800, 2)\n",
      "(11200, 2)\n"
     ]
    }
   ],
   "source": [
    "print(train_df.shape)\n",
    "print(val_df.shape)"
   ]
  },
  {
   "cell_type": "code",
   "execution_count": 5,
   "metadata": {
    "execution": {
     "iopub.execute_input": "2021-07-02T18:39:26.911195Z",
     "iopub.status.busy": "2021-07-02T18:39:26.910913Z",
     "iopub.status.idle": "2021-07-02T18:39:28.583169Z",
     "shell.execute_reply": "2021-07-02T18:39:28.582319Z",
     "shell.execute_reply.started": "2021-07-02T18:39:26.911168Z"
    }
   },
   "outputs": [],
   "source": [
    "import re\n",
    "import nltk\n",
    "from nltk.corpus import stopwords\n",
    "from nltk.stem.porter import PorterStemmer\n",
    "from nltk.tokenize import word_tokenize\n",
    "from nltk.stem import WordNetLemmatizer\n",
    "def clean(data):\n",
    "    corpus = []\n",
    "    rows = data.shape[0]\n",
    "    for i in range(0, rows):\n",
    "        title = re.sub('[^a-zA-Z]', ' ', data['text'][i])\n",
    "        title = title.lower()\n",
    "        title = word_tokenize(title)\n",
    "        # title = title.split()\n",
    "        ps = PorterStemmer()\n",
    "        lemma = WordNetLemmatizer()\n",
    "        all_stopwords = stopwords.words('english')\n",
    "        title = [lemma.lemmatize(word) for word in title if not word in set(all_stopwords)]\n",
    "        title = [ps.stem(word) for word in title if not word in set(all_stopwords)]\n",
    "        title = ' '.join(title)\n",
    "        corpus.append(title)\n",
    "    return corpus"
   ]
  },
  {
   "cell_type": "code",
   "execution_count": 6,
   "metadata": {
    "execution": {
     "iopub.execute_input": "2021-07-02T18:39:28.585069Z",
     "iopub.status.busy": "2021-07-02T18:39:28.584464Z",
     "iopub.status.idle": "2021-07-02T18:42:33.486235Z",
     "shell.execute_reply": "2021-07-02T18:42:33.485454Z",
     "shell.execute_reply.started": "2021-07-02T18:39:28.585024Z"
    }
   },
   "outputs": [],
   "source": [
    "corpus_train = clean(train_df)\n",
    "corpus_val = clean(val_df)"
   ]
  },
  {
   "cell_type": "code",
   "execution_count": 7,
   "metadata": {
    "execution": {
     "iopub.execute_input": "2021-07-02T18:42:33.487668Z",
     "iopub.status.busy": "2021-07-02T18:42:33.487268Z",
     "iopub.status.idle": "2021-07-02T18:42:33.524083Z",
     "shell.execute_reply": "2021-07-02T18:42:33.523062Z",
     "shell.execute_reply.started": "2021-07-02T18:42:33.487639Z"
    }
   },
   "outputs": [],
   "source": [
    "train_df['text'] = corpus_train\n",
    "train_df.label = train_df.label.apply({'CL':0,'CR':1,'DC':2,'DS':3,'LO':4, 'NI':5, 'SE':6}.get)\n",
    "val_df['text'] = corpus_val\n",
    "val_df.label = val_df.label.apply({'CL':0,'CR':1,'DC':2,'DS':3,'LO':4, 'NI':5, 'SE':6}.get)"
   ]
  },
  {
   "cell_type": "code",
   "execution_count": 8,
   "metadata": {
    "execution": {
     "iopub.execute_input": "2021-07-02T18:42:33.525694Z",
     "iopub.status.busy": "2021-07-02T18:42:33.525409Z",
     "iopub.status.idle": "2021-07-02T18:42:33.554879Z",
     "shell.execute_reply": "2021-07-02T18:42:33.554191Z",
     "shell.execute_reply.started": "2021-07-02T18:42:33.525667Z"
    }
   },
   "outputs": [
    {
     "data": {
      "text/html": [
       "<div>\n",
       "<style scoped>\n",
       "    .dataframe tbody tr th:only-of-type {\n",
       "        vertical-align: middle;\n",
       "    }\n",
       "\n",
       "    .dataframe tbody tr th {\n",
       "        vertical-align: top;\n",
       "    }\n",
       "\n",
       "    .dataframe thead th {\n",
       "        text-align: right;\n",
       "    }\n",
       "</style>\n",
       "<table border=\"1\" class=\"dataframe\">\n",
       "  <thead>\n",
       "    <tr style=\"text-align: right;\">\n",
       "      <th></th>\n",
       "      <th>text</th>\n",
       "      <th>label</th>\n",
       "    </tr>\n",
       "  </thead>\n",
       "  <tbody>\n",
       "    <tr>\n",
       "      <th>0</th>\n",
       "      <td>extend natur deduct approach linear nest seque...</td>\n",
       "      <td>4</td>\n",
       "    </tr>\n",
       "    <tr>\n",
       "      <th>1</th>\n",
       "      <td>last decad ieee emerg popular protocol wireles...</td>\n",
       "      <td>5</td>\n",
       "    </tr>\n",
       "    <tr>\n",
       "      <th>2</th>\n",
       "      <td>motiv problem store colour de bruijn graph sho...</td>\n",
       "      <td>3</td>\n",
       "    </tr>\n",
       "    <tr>\n",
       "      <th>3</th>\n",
       "      <td>consid downlink cellular system address proble...</td>\n",
       "      <td>5</td>\n",
       "    </tr>\n",
       "    <tr>\n",
       "      <th>4</th>\n",
       "      <td>meroit still undeciph languag ancient civil ku...</td>\n",
       "      <td>0</td>\n",
       "    </tr>\n",
       "  </tbody>\n",
       "</table>\n",
       "</div>"
      ],
      "text/plain": [
       "                                                text  label\n",
       "0  extend natur deduct approach linear nest seque...      4\n",
       "1  last decad ieee emerg popular protocol wireles...      5\n",
       "2  motiv problem store colour de bruijn graph sho...      3\n",
       "3  consid downlink cellular system address proble...      5\n",
       "4  meroit still undeciph languag ancient civil ku...      0"
      ]
     },
     "execution_count": 8,
     "metadata": {},
     "output_type": "execute_result"
    }
   ],
   "source": [
    "train_df.head()"
   ]
  },
  {
   "cell_type": "code",
   "execution_count": 9,
   "metadata": {
    "execution": {
     "iopub.execute_input": "2021-07-02T18:42:33.557719Z",
     "iopub.status.busy": "2021-07-02T18:42:33.557441Z",
     "iopub.status.idle": "2021-07-02T18:42:33.566662Z",
     "shell.execute_reply": "2021-07-02T18:42:33.565661Z",
     "shell.execute_reply.started": "2021-07-02T18:42:33.557693Z"
    }
   },
   "outputs": [
    {
     "data": {
      "text/html": [
       "<div>\n",
       "<style scoped>\n",
       "    .dataframe tbody tr th:only-of-type {\n",
       "        vertical-align: middle;\n",
       "    }\n",
       "\n",
       "    .dataframe tbody tr th {\n",
       "        vertical-align: top;\n",
       "    }\n",
       "\n",
       "    .dataframe thead th {\n",
       "        text-align: right;\n",
       "    }\n",
       "</style>\n",
       "<table border=\"1\" class=\"dataframe\">\n",
       "  <thead>\n",
       "    <tr style=\"text-align: right;\">\n",
       "      <th></th>\n",
       "      <th>text</th>\n",
       "      <th>label</th>\n",
       "    </tr>\n",
       "  </thead>\n",
       "  <tbody>\n",
       "    <tr>\n",
       "      <th>0</th>\n",
       "      <td>mann et al design first algorithm comput maxim...</td>\n",
       "      <td>2</td>\n",
       "    </tr>\n",
       "    <tr>\n",
       "      <th>1</th>\n",
       "      <td>consid challeng creat guidelin evalu qualiti s...</td>\n",
       "      <td>6</td>\n",
       "    </tr>\n",
       "    <tr>\n",
       "      <th>2</th>\n",
       "      <td>network virtual techniqu allow coexist mani vi...</td>\n",
       "      <td>5</td>\n",
       "    </tr>\n",
       "    <tr>\n",
       "      <th>3</th>\n",
       "      <td>min k cut problem input edg weight graph g int...</td>\n",
       "      <td>3</td>\n",
       "    </tr>\n",
       "    <tr>\n",
       "      <th>4</th>\n",
       "      <td>introduc notion weihrauch complet layerwis com...</td>\n",
       "      <td>4</td>\n",
       "    </tr>\n",
       "  </tbody>\n",
       "</table>\n",
       "</div>"
      ],
      "text/plain": [
       "                                                text  label\n",
       "0  mann et al design first algorithm comput maxim...      2\n",
       "1  consid challeng creat guidelin evalu qualiti s...      6\n",
       "2  network virtual techniqu allow coexist mani vi...      5\n",
       "3  min k cut problem input edg weight graph g int...      3\n",
       "4  introduc notion weihrauch complet layerwis com...      4"
      ]
     },
     "execution_count": 9,
     "metadata": {},
     "output_type": "execute_result"
    }
   ],
   "source": [
    "val_df.head()"
   ]
  },
  {
   "cell_type": "code",
   "execution_count": 10,
   "metadata": {
    "execution": {
     "iopub.execute_input": "2021-07-02T18:42:33.568969Z",
     "iopub.status.busy": "2021-07-02T18:42:33.568617Z",
     "iopub.status.idle": "2021-07-02T18:42:33.582842Z",
     "shell.execute_reply": "2021-07-02T18:42:33.581833Z",
     "shell.execute_reply.started": "2021-07-02T18:42:33.568938Z"
    }
   },
   "outputs": [],
   "source": [
    "from sklearn.model_selection import train_test_split\n",
    "X = val_df['text']\n",
    "y = val_df['label']\n",
    "X_val, X_test, y_val, y_test = train_test_split(X, y, test_size = 0.5, random_state = 42)"
   ]
  },
  {
   "cell_type": "code",
   "execution_count": 11,
   "metadata": {
    "execution": {
     "iopub.execute_input": "2021-07-02T18:42:33.584445Z",
     "iopub.status.busy": "2021-07-02T18:42:33.584137Z",
     "iopub.status.idle": "2021-07-02T18:42:33.594162Z",
     "shell.execute_reply": "2021-07-02T18:42:33.593374Z",
     "shell.execute_reply.started": "2021-07-02T18:42:33.584417Z"
    }
   },
   "outputs": [],
   "source": [
    "test_df=pd.concat([X_test, y_test], axis=1)"
   ]
  },
  {
   "cell_type": "code",
   "execution_count": 12,
   "metadata": {
    "execution": {
     "iopub.execute_input": "2021-07-02T18:42:33.595890Z",
     "iopub.status.busy": "2021-07-02T18:42:33.595366Z",
     "iopub.status.idle": "2021-07-02T18:42:33.616826Z",
     "shell.execute_reply": "2021-07-02T18:42:33.615807Z",
     "shell.execute_reply.started": "2021-07-02T18:42:33.595857Z"
    }
   },
   "outputs": [
    {
     "data": {
      "text/html": [
       "<div>\n",
       "<style scoped>\n",
       "    .dataframe tbody tr th:only-of-type {\n",
       "        vertical-align: middle;\n",
       "    }\n",
       "\n",
       "    .dataframe tbody tr th {\n",
       "        vertical-align: top;\n",
       "    }\n",
       "\n",
       "    .dataframe thead th {\n",
       "        text-align: right;\n",
       "    }\n",
       "</style>\n",
       "<table border=\"1\" class=\"dataframe\">\n",
       "  <thead>\n",
       "    <tr style=\"text-align: right;\">\n",
       "      <th></th>\n",
       "      <th>text</th>\n",
       "      <th>label</th>\n",
       "    </tr>\n",
       "  </thead>\n",
       "  <tbody>\n",
       "    <tr>\n",
       "      <th>3532</th>\n",
       "      <td>show np complet existenti theori term algebra ...</td>\n",
       "      <td>4</td>\n",
       "    </tr>\n",
       "    <tr>\n",
       "      <th>2899</th>\n",
       "      <td>rapid advanc sens network comput technolog rec...</td>\n",
       "      <td>5</td>\n",
       "    </tr>\n",
       "    <tr>\n",
       "      <th>3822</th>\n",
       "      <td>problem oblivi ram oram tradit studi singl ser...</td>\n",
       "      <td>1</td>\n",
       "    </tr>\n",
       "    <tr>\n",
       "      <th>5846</th>\n",
       "      <td>secur multi parti comput wide studi area compu...</td>\n",
       "      <td>1</td>\n",
       "    </tr>\n",
       "    <tr>\n",
       "      <th>9036</th>\n",
       "      <td>paper first present analyt discuss energi effi...</td>\n",
       "      <td>5</td>\n",
       "    </tr>\n",
       "  </tbody>\n",
       "</table>\n",
       "</div>"
      ],
      "text/plain": [
       "                                                   text  label\n",
       "3532  show np complet existenti theori term algebra ...      4\n",
       "2899  rapid advanc sens network comput technolog rec...      5\n",
       "3822  problem oblivi ram oram tradit studi singl ser...      1\n",
       "5846  secur multi parti comput wide studi area compu...      1\n",
       "9036  paper first present analyt discuss energi effi...      5"
      ]
     },
     "execution_count": 12,
     "metadata": {},
     "output_type": "execute_result"
    }
   ],
   "source": [
    "test_df.head()"
   ]
  },
  {
   "cell_type": "code",
   "execution_count": 13,
   "metadata": {
    "execution": {
     "iopub.execute_input": "2021-07-02T18:42:33.618890Z",
     "iopub.status.busy": "2021-07-02T18:42:33.618299Z",
     "iopub.status.idle": "2021-07-02T18:42:33.628296Z",
     "shell.execute_reply": "2021-07-02T18:42:33.627437Z",
     "shell.execute_reply.started": "2021-07-02T18:42:33.618845Z"
    }
   },
   "outputs": [],
   "source": [
    "# For validation using K-Fold Cross Validation\n",
    "text = np.array(val_df['text'])\n",
    "label = np.array(val_df['label'])"
   ]
  },
  {
   "cell_type": "code",
   "execution_count": 14,
   "metadata": {
    "execution": {
     "iopub.execute_input": "2021-07-02T18:42:33.630264Z",
     "iopub.status.busy": "2021-07-02T18:42:33.629637Z",
     "iopub.status.idle": "2021-07-02T18:42:33.641886Z",
     "shell.execute_reply": "2021-07-02T18:42:33.640833Z",
     "shell.execute_reply.started": "2021-07-02T18:42:33.630219Z"
    }
   },
   "outputs": [],
   "source": [
    "text_train = train_df['text']\n",
    "text_test = test_df['text']\n",
    "label_train = train_df['label']\n",
    "label_test = test_df['label']"
   ]
  },
  {
   "cell_type": "code",
   "execution_count": 15,
   "metadata": {
    "execution": {
     "iopub.execute_input": "2021-07-02T18:42:33.643987Z",
     "iopub.status.busy": "2021-07-02T18:42:33.643503Z",
     "iopub.status.idle": "2021-07-02T18:42:42.255279Z",
     "shell.execute_reply": "2021-07-02T18:42:42.254428Z",
     "shell.execute_reply.started": "2021-07-02T18:42:33.643941Z"
    }
   },
   "outputs": [],
   "source": [
    "from sklearn.feature_extraction.text import TfidfVectorizer\n",
    "# build TFIDF features on train reviews\n",
    "tv = TfidfVectorizer(min_df=0.0, max_df=1.0, ngram_range=(1,2),\n",
    "                     sublinear_tf=True)\n",
    "tv_train_features = tv.fit_transform(text_train)"
   ]
  },
  {
   "cell_type": "code",
   "execution_count": 16,
   "metadata": {
    "execution": {
     "iopub.execute_input": "2021-07-02T18:42:42.256745Z",
     "iopub.status.busy": "2021-07-02T18:42:42.256327Z",
     "iopub.status.idle": "2021-07-02T18:42:43.800080Z",
     "shell.execute_reply": "2021-07-02T18:42:43.799316Z",
     "shell.execute_reply.started": "2021-07-02T18:42:42.256715Z"
    }
   },
   "outputs": [],
   "source": [
    "# transform test reviews into features\n",
    "tv_test_features = tv.transform(text_test)"
   ]
  },
  {
   "cell_type": "code",
   "execution_count": 17,
   "metadata": {
    "execution": {
     "iopub.execute_input": "2021-07-02T18:42:43.801469Z",
     "iopub.status.busy": "2021-07-02T18:42:43.801068Z",
     "iopub.status.idle": "2021-07-02T18:42:43.806643Z",
     "shell.execute_reply": "2021-07-02T18:42:43.805727Z",
     "shell.execute_reply.started": "2021-07-02T18:42:43.801439Z"
    }
   },
   "outputs": [
    {
     "name": "stdout",
     "output_type": "stream",
     "text": [
      "TFIDF model:> Train features shape: (16800, 727983)  Test features shape: (5600, 727983)\n"
     ]
    }
   ],
   "source": [
    "print('TFIDF model:> Train features shape:', tv_train_features.shape, ' Test features shape:', tv_test_features.shape)"
   ]
  },
  {
   "cell_type": "code",
   "execution_count": 32,
   "metadata": {
    "execution": {
     "iopub.execute_input": "2021-07-03T01:59:55.804710Z",
     "iopub.status.busy": "2021-07-03T01:59:55.804201Z",
     "iopub.status.idle": "2021-07-03T01:59:55.810670Z",
     "shell.execute_reply": "2021-07-03T01:59:55.809436Z",
     "shell.execute_reply.started": "2021-07-03T01:59:55.804674Z"
    }
   },
   "outputs": [],
   "source": [
    "# Report for all models\n",
    "from collections import defaultdict\n",
    "scores = defaultdict(lambda: [0] * 4)"
   ]
  },
  {
   "cell_type": "code",
   "execution_count": 25,
   "metadata": {
    "execution": {
     "iopub.execute_input": "2021-07-03T01:11:39.794030Z",
     "iopub.status.busy": "2021-07-03T01:11:39.793323Z",
     "iopub.status.idle": "2021-07-03T01:11:39.838196Z",
     "shell.execute_reply": "2021-07-03T01:11:39.837123Z",
     "shell.execute_reply.started": "2021-07-03T01:11:39.793974Z"
    }
   },
   "outputs": [],
   "source": [
    "####Evaluation metrics\n",
    "from sklearn import metrics\n",
    "from sklearn.preprocessing import LabelEncoder\n",
    "from sklearn.base import clone\n",
    "from sklearn.preprocessing import label_binarize\n",
    "from scipy import interp\n",
    "from sklearn.metrics import roc_curve, auc \n",
    "from sklearn.model_selection import cross_val_score\n",
    "from sklearn.model_selection import StratifiedKFold\n",
    "import seaborn as sns\n",
    "\n",
    "\n",
    "def fetch_scores(classifier_name ,true_labels, predicted_labels):\n",
    "    scores[classifier_name][0]=(np.round(metrics.accuracy_score(true_labels, predicted_labels), 4))\n",
    "    scores[classifier_name][1]=(np.round(metrics.precision_score(true_labels, predicted_labels, average='weighted'), 4))\n",
    "    scores[classifier_name][2]=(np.round(metrics.recall_score(true_labels, predicted_labels, average='weighted'), 4))\n",
    "    scores[classifier_name][3]=(np.round(metrics.f1_score(true_labels, predicted_labels, average='weighted'), 4))\n",
    "    \n",
    "\n",
    "def get_metrics(true_labels, predicted_labels):\n",
    "    \n",
    "    print('Accuracy:', np.round(\n",
    "                        metrics.accuracy_score(true_labels, \n",
    "                                               predicted_labels),\n",
    "                        4))\n",
    "    print('Precision:', np.round(\n",
    "                        metrics.precision_score(true_labels, \n",
    "                                               predicted_labels,\n",
    "                                               average='weighted'),\n",
    "                        4))\n",
    "    print('Recall:', np.round(\n",
    "                        metrics.recall_score(true_labels, \n",
    "                                               predicted_labels,\n",
    "                                               average='weighted'),\n",
    "                        4))\n",
    "    print('F1 Score:', np.round(\n",
    "                        metrics.f1_score(true_labels, \n",
    "                                               predicted_labels,\n",
    "                                               average='weighted'),\n",
    "                        4))\n",
    "                        \n",
    "\n",
    "def train_predict_model(classifier, \n",
    "                        train_features, train_labels, \n",
    "                        test_features, test_labels):\n",
    "    # build model    \n",
    "    classifier.fit(train_features, train_labels)\n",
    "    # predict using model\n",
    "    predictions = classifier.predict(test_features) \n",
    "    return predictions    \n",
    "\n",
    "\n",
    "def cross_validate_model(classifier, \n",
    "                        text, label, k=5):\n",
    "    print('\\nModel Validation Report:')\n",
    "    print('-'*30)\n",
    "    # build model    \n",
    "    classifier.fit(text, label)\n",
    "    # validate the model\n",
    "    scores = cross_val_score(classifier, text, label, cv=k)\n",
    "    for i in range(len(scores)):\n",
    "        print('Fold', i + 1,':', np.round(scores[i], 2))\n",
    "    print('\\nMin Score:', np.round(np.array(scores).min(), 4))\n",
    "    print('Max Score:', np.round(np.array(scores).max(), 4))\n",
    "    print('Mean Score:', np.round(np.array(scores).mean(), 4))\n",
    "\n",
    "\n",
    "def stratified_cross_validate_model(classifier, \n",
    "                        text, label, k=5):\n",
    "    print('\\nModel Validation Report:')\n",
    "    print('-'*30)\n",
    "    \n",
    "    skf = StratifiedKFold(n_splits=k, random_state=None)\n",
    "    skf.get_n_splits(text, label)\n",
    "    \n",
    "    scores = []\n",
    "    for train_index, test_index in skf.split(text, label):\n",
    "        # print(\"TRAIN:\", train_index, \"TEST:\", test_index)\n",
    "        X_train, X_test = text[train_index], text[test_index]\n",
    "        y_train, y_test = label[train_index], label[test_index]\n",
    "        \n",
    "        classifier.fit(X_train, y_train)\n",
    "        y_pred = classifier.predict(X_test)\n",
    "        \n",
    "        accuracy = metrics.accuracy_score(y_test, y_pred)\n",
    "        scores.append(accuracy)\n",
    "\n",
    "    for i in range(len(scores)):\n",
    "        print('Fold', i + 1,':', np.round(scores[i], 2))\n",
    "    print('\\nMin Score:', np.round(np.array(scores).min(), 4))\n",
    "    print('Max Score:', np.round(np.array(scores).max(), 4))\n",
    "    print('Mean Score:', np.round(np.array(scores).mean(), 4))    \n",
    "    \n",
    "    \n",
    "def display_confusion_matrix(true_labels, predicted_labels, classes=[1,0]):\n",
    "    \n",
    "    total_classes = len(classes)\n",
    "    level_labels = [total_classes*[0], list(range(total_classes))]\n",
    "\n",
    "    cm = metrics.confusion_matrix(y_true=true_labels, y_pred=predicted_labels, \n",
    "                                  labels=classes)\n",
    "    \n",
    "    labels = classes\n",
    "    print(cm)\n",
    "    fig = plt.figure()\n",
    "    ax = fig.add_subplot(111)\n",
    "    cax = ax.matshow(cm)\n",
    "    plt.title('Confusion matrix of the classifier')\n",
    "    fig.colorbar(cax)\n",
    "    ax.set_xticklabels([''] + labels)\n",
    "    ax.set_yticklabels([''] + labels)\n",
    "    plt.xlabel('Predicted')\n",
    "    plt.ylabel('True')\n",
    "    plt.show()\n",
    "    \n",
    "    \n",
    "def display_classification_report(true_labels, predicted_labels, classes=[1,0]):\n",
    "\n",
    "    report = metrics.classification_report(y_true=true_labels, \n",
    "                                           y_pred=predicted_labels, \n",
    "                                           labels=classes) \n",
    "    print(report)\n",
    "    \n",
    "    \n",
    "    \n",
    "def display_model_performance_metrics(true_labels, predicted_labels, classes=[1,0]):\n",
    "    print('Model Performance metrics:')\n",
    "    print('-'*30)\n",
    "    get_metrics(true_labels=true_labels, predicted_labels=predicted_labels)\n",
    "    print('\\nModel Classification report:')\n",
    "    print('-'*30)\n",
    "    display_classification_report(true_labels=true_labels, predicted_labels=predicted_labels, \n",
    "                                  classes=classes)\n",
    "    print('\\nPrediction Confusion Matrix:')\n",
    "    print('-'*30)\n",
    "    display_confusion_matrix(true_labels=true_labels, predicted_labels=predicted_labels, \n",
    "                             classes=classes)"
   ]
  },
  {
   "cell_type": "markdown",
   "metadata": {},
   "source": [
    "# SVM (TF-IDF)"
   ]
  },
  {
   "cell_type": "code",
   "execution_count": 20,
   "metadata": {
    "execution": {
     "iopub.execute_input": "2021-07-02T18:42:43.924967Z",
     "iopub.status.busy": "2021-07-02T18:42:43.924653Z",
     "iopub.status.idle": "2021-07-03T00:57:03.903485Z",
     "shell.execute_reply": "2021-07-03T00:57:03.902104Z",
     "shell.execute_reply.started": "2021-07-02T18:42:43.924936Z"
    }
   },
   "outputs": [
    {
     "data": {
      "text/plain": [
       "RandomizedSearchCV(cv=10, estimator=SVC(), n_jobs=-1,\n",
       "                   param_distributions={'C': [0.01, 0.1, 1, 5, 10, 100],\n",
       "                                        'gamma': [0, 0.01, 0.1, 1, 5, 10, 100],\n",
       "                                        'kernel': ['rbf', 'linear'],\n",
       "                                        'random_state': [1]},\n",
       "                   random_state=1, return_train_score=True)"
      ]
     },
     "execution_count": 20,
     "metadata": {},
     "output_type": "execute_result"
    }
   ],
   "source": [
    "from sklearn.model_selection import RandomizedSearchCV\n",
    "from sklearn.svm import SVC\n",
    "\n",
    "svm_param = {\n",
    "    \"C\": [.01, .1, 1, 5, 10, 100],\n",
    "    \"gamma\": [0, .01, .1, 1, 5, 10, 100],\n",
    "    \"kernel\": [\"rbf\", \"linear\"],\n",
    "    \"random_state\": [1]\n",
    "}\n",
    "\n",
    "svm_rs = RandomizedSearchCV(estimator=SVC(), param_distributions=svm_param, n_iter=10, n_jobs=-1, cv=10, verbose=0, random_state=1, return_train_score=True)\n",
    "svm_rs.fit(tv_train_features, label_train)"
   ]
  },
  {
   "cell_type": "code",
   "execution_count": 21,
   "metadata": {
    "execution": {
     "iopub.execute_input": "2021-07-03T00:57:03.905973Z",
     "iopub.status.busy": "2021-07-03T00:57:03.905599Z",
     "iopub.status.idle": "2021-07-03T00:57:03.913028Z",
     "shell.execute_reply": "2021-07-03T00:57:03.911884Z",
     "shell.execute_reply.started": "2021-07-03T00:57:03.905934Z"
    }
   },
   "outputs": [
    {
     "data": {
      "text/plain": [
       "{'random_state': 1, 'kernel': 'linear', 'gamma': 10, 'C': 10}"
      ]
     },
     "execution_count": 21,
     "metadata": {},
     "output_type": "execute_result"
    }
   ],
   "source": [
    "svm_rs.best_params_"
   ]
  },
  {
   "cell_type": "code",
   "execution_count": 22,
   "metadata": {
    "execution": {
     "iopub.execute_input": "2021-07-03T00:57:03.914579Z",
     "iopub.status.busy": "2021-07-03T00:57:03.914260Z",
     "iopub.status.idle": "2021-07-03T00:57:03.931528Z",
     "shell.execute_reply": "2021-07-03T00:57:03.930494Z",
     "shell.execute_reply.started": "2021-07-03T00:57:03.914539Z"
    }
   },
   "outputs": [
    {
     "data": {
      "text/plain": [
       "0.9173809523809524"
      ]
     },
     "execution_count": 22,
     "metadata": {},
     "output_type": "execute_result"
    }
   ],
   "source": [
    "svm_rs.best_score_"
   ]
  },
  {
   "cell_type": "code",
   "execution_count": 26,
   "metadata": {
    "execution": {
     "iopub.execute_input": "2021-07-03T01:12:56.751937Z",
     "iopub.status.busy": "2021-07-03T01:12:56.751130Z",
     "iopub.status.idle": "2021-07-03T01:52:59.812775Z",
     "shell.execute_reply": "2021-07-03T01:52:59.811597Z",
     "shell.execute_reply.started": "2021-07-03T01:12:56.751890Z"
    }
   },
   "outputs": [
    {
     "name": "stdout",
     "output_type": "stream",
     "text": [
      "Model Performance metrics:\n",
      "------------------------------\n",
      "Accuracy: 0.9266\n",
      "Precision: 0.9267\n",
      "Recall: 0.9266\n",
      "F1 Score: 0.9265\n",
      "\n",
      "Model Classification report:\n",
      "------------------------------\n",
      "              precision    recall  f1-score   support\n",
      "\n",
      "           0       0.98      0.98      0.98       934\n",
      "           1       0.94      0.90      0.92       946\n",
      "           2       0.87      0.84      0.85       647\n",
      "           3       0.93      0.96      0.94       891\n",
      "           4       0.93      0.94      0.93       615\n",
      "           5       0.92      0.92      0.92       919\n",
      "           6       0.89      0.92      0.90       648\n",
      "\n",
      "    accuracy                           0.93      5600\n",
      "   macro avg       0.92      0.92      0.92      5600\n",
      "weighted avg       0.93      0.93      0.93      5600\n",
      "\n",
      "\n",
      "Prediction Confusion Matrix:\n",
      "------------------------------\n",
      "[[917   2   0   2   6   0   7]\n",
      " [  2 856  13  10  12  28  25]\n",
      " [  0  17 545  27   2  36  20]\n",
      " [  1   3  24 852   5   6   0]\n",
      " [  2   4   5  11 576   0  17]\n",
      " [  3  25  25   9   0 850   7]\n",
      " [  6   5  18   2  17   7 593]]\n"
     ]
    },
    {
     "data": {
      "image/png": "[encoded data removed]",
      "text/plain": [
       "<Figure size 432x288 with 2 Axes>"
      ]
     },
     "metadata": {
      "needs_background": "light"
     },
     "output_type": "display_data"
    },
    {
     "name": "stdout",
     "output_type": "stream",
     "text": [
      "\n",
      "Model Validation Report:\n",
      "------------------------------\n",
      "Fold 1 : 0.92\n",
      "Fold 2 : 0.93\n",
      "Fold 3 : 0.93\n",
      "Fold 4 : 0.92\n",
      "Fold 5 : 0.91\n",
      "Fold 6 : 0.91\n",
      "Fold 7 : 0.92\n",
      "Fold 8 : 0.92\n",
      "Fold 9 : 0.92\n",
      "Fold 10 : 0.92\n",
      "\n",
      "Min Score: 0.9054\n",
      "Max Score: 0.9277\n",
      "Mean Score: 0.9184\n"
     ]
    }
   ],
   "source": [
    "# SVM model on TF-IDF\n",
    "from sklearn.svm import SVC\n",
    "svm = SVC(**svm_rs.best_params_) \n",
    "svm_tfidf_predictions = train_predict_model(classifier=svm, \n",
    "                                                train_features=tv_train_features, train_labels=label_train,\n",
    "                                                test_features=tv_test_features, test_labels=label_test)\n",
    "\n",
    "display_model_performance_metrics(true_labels=label_test, predicted_labels=svm_tfidf_predictions,\n",
    "                                      classes=[0,1,2,3,4,5,6])\n",
    "\n",
    "fetch_scores(classifier_name = 'Support Vector Machine (TF-IDF)', true_labels=label_test, \n",
    "                                     predicted_labels=svm_tfidf_predictions)\n",
    "\n",
    "# cross_validate_model(classifier=svm, text=tv.fit_transform(text), label=label, k=10)\n",
    "\n",
    "stratified_cross_validate_model(classifier=svm, text=tv.fit_transform(text), label=label, k=10)"
   ]
  },
  {
   "cell_type": "markdown",
   "metadata": {},
   "source": [
    "# All Model Report"
   ]
  },
  {
   "cell_type": "code",
   "execution_count": 34,
   "metadata": {
    "execution": {
     "iopub.execute_input": "2021-07-03T02:00:09.763617Z",
     "iopub.status.busy": "2021-07-03T02:00:09.762921Z",
     "iopub.status.idle": "2021-07-03T02:00:09.768777Z",
     "shell.execute_reply": "2021-07-03T02:00:09.767623Z",
     "shell.execute_reply.started": "2021-07-03T02:00:09.763576Z"
    }
   },
   "outputs": [
    {
     "name": "stdout",
     "output_type": "stream",
     "text": [
      "defaultdict(<function <lambda> at 0x7f35fa0b4b00>, {'Support Vector Machine (TF-IDF)': [0.9266, 0.9267, 0.9266, 0.9265]})\n"
     ]
    }
   ],
   "source": [
    "print(scores)"
   ]
  },
  {
   "cell_type": "code",
   "execution_count": 35,
   "metadata": {
    "execution": {
     "iopub.execute_input": "2021-07-03T02:00:14.483850Z",
     "iopub.status.busy": "2021-07-03T02:00:14.483322Z",
     "iopub.status.idle": "2021-07-03T02:00:14.497032Z",
     "shell.execute_reply": "2021-07-03T02:00:14.495304Z",
     "shell.execute_reply.started": "2021-07-03T02:00:14.483805Z"
    }
   },
   "outputs": [
    {
     "name": "stdout",
     "output_type": "stream",
     "text": [
      "Support Vector Machine (TF-IDF)\n",
      "---------------------------------------------------------\n",
      "  Accuracy             0.9266\n",
      "  Precision            0.9267\n",
      "  Recall               0.9266\n",
      "  F1 Score             0.9265\n",
      "\n"
     ]
    }
   ],
   "source": [
    "mp = {0: 'Accuracy', 1: 'Precision', 2: 'Recall', 3: 'F1 Score'}\n",
    "best_accuracy, best_precision, best_recall, best_f1score = 0.0, 0.0, 0.0, 0.0\n",
    "for model, parameters in scores.items():\n",
    "    print(model)\n",
    "    print('-'*57)\n",
    "    i = 0\n",
    "    for p in parameters:\n",
    "        best_accuracy = max(best_accuracy, parameters[0])\n",
    "        best_precision = max(best_precision, parameters[1])\n",
    "        best_recall = max(best_recall, parameters[2])\n",
    "        best_f1score = max(best_f1score, parameters[3])\n",
    "        print(' ', mp[i] + (' ' * (20-len(mp[i]))), p)\n",
    "        i = i+1\n",
    "    print('')"
   ]
  },
  {
   "cell_type": "code",
   "execution_count": 36,
   "metadata": {
    "execution": {
     "iopub.execute_input": "2021-07-03T02:00:15.223324Z",
     "iopub.status.busy": "2021-07-03T02:00:15.222842Z",
     "iopub.status.idle": "2021-07-03T02:00:15.236414Z",
     "shell.execute_reply": "2021-07-03T02:00:15.235284Z",
     "shell.execute_reply.started": "2021-07-03T02:00:15.223281Z"
    }
   },
   "outputs": [
    {
     "name": "stdout",
     "output_type": "stream",
     "text": [
      "Best Accuracy: 0.9266 \n",
      "Models: {'Support Vector Machine (TF-IDF)'}\n",
      "\n",
      "Best Precision: 0.9267 \n",
      "Models: {'Support Vector Machine (TF-IDF)'}\n",
      "\n",
      "Best Recall: 0.9266 \n",
      "Models: {'Support Vector Machine (TF-IDF)'}\n",
      "\n",
      "Best F1 Score: 0.9265 \n",
      "Models: {'Support Vector Machine (TF-IDF)'}\n"
     ]
    }
   ],
   "source": [
    "best_accuracy_models, best_precision_models, best_recall_models, best_f1score_models = [], [], [], []\n",
    "for model, parameters in scores.items():\n",
    "    i = 0\n",
    "    for p in parameters:\n",
    "        if parameters[0] is best_accuracy: best_accuracy_models.append(model)\n",
    "        if parameters[1] is best_precision: best_precision_models.append(model)\n",
    "        if parameters[2] is best_recall: best_recall_models.append(model)\n",
    "        if parameters[3] is best_f1score: best_f1score_models.append(model)\n",
    "        i = i+1\n",
    "\n",
    "print('Best Accuracy:', best_accuracy, '\\nModels:', set(best_accuracy_models))\n",
    "print('\\nBest Precision:', best_precision, '\\nModels:', set(best_precision_models))\n",
    "print('\\nBest Recall:', best_accuracy, '\\nModels:', set(best_recall_models))\n",
    "print('\\nBest F1 Score:', best_f1score, '\\nModels:', set(best_f1score_models))"
   ]
  },
  {
   "cell_type": "markdown",
   "metadata": {},
   "source": [
    "# User Prediction Section"
   ]
  },
  {
   "cell_type": "code",
   "execution_count": 37,
   "metadata": {
    "execution": {
     "iopub.execute_input": "2021-07-03T02:00:17.903341Z",
     "iopub.status.busy": "2021-07-03T02:00:17.902885Z",
     "iopub.status.idle": "2021-07-03T02:00:17.912417Z",
     "shell.execute_reply": "2021-07-03T02:00:17.911148Z",
     "shell.execute_reply.started": "2021-07-03T02:00:17.903304Z"
    }
   },
   "outputs": [],
   "source": [
    "hash_mp = {0:'CL', 1:'CR', 2:'DC', 3:'DS', 4:'LO', 5:'NI', 6:'SE'}\n",
    "def user_predict(abstract, model):\n",
    "    processed_abstract = re.sub('[^a-zA-Z]', ' ', abstract)\n",
    "    processed_abstract = processed_abstract.lower()\n",
    "    processed_abstract = word_tokenize(processed_abstract)\n",
    "    ps = PorterStemmer()\n",
    "    lemma = WordNetLemmatizer()\n",
    "    all_stopwords = stopwords.words('english')\n",
    "    processed_abstract = [lemma.lemmatize(word) for word in processed_abstract if not word in set(all_stopwords)]\n",
    "    processed_abstract = [ps.stem(word) for word in processed_abstract if not word in set(all_stopwords)]\n",
    "    processed_abstract = ' '.join(processed_abstract)\n",
    "    category = model.predict(tv.transform([processed_abstract]))\n",
    "    # print(hash_mp[category[0]])\n",
    "    return hash_mp[category[0]]"
   ]
  },
  {
   "cell_type": "code",
   "execution_count": 38,
   "metadata": {
    "execution": {
     "iopub.execute_input": "2021-07-03T02:00:18.703220Z",
     "iopub.status.busy": "2021-07-03T02:00:18.702817Z",
     "iopub.status.idle": "2021-07-03T02:00:18.752839Z",
     "shell.execute_reply": "2021-07-03T02:00:18.751887Z",
     "shell.execute_reply.started": "2021-07-03T02:00:18.703186Z"
    }
   },
   "outputs": [
    {
     "name": "stdout",
     "output_type": "stream",
     "text": [
      "LO\n"
     ]
    }
   ],
   "source": [
    "model = svm# Chose a model\n",
    "abstract = train_df['text'][0]# String\n",
    "print(user_predict(abstract, model))"
   ]
  },
  {
   "cell_type": "code",
   "execution_count": null,
   "metadata": {},
   "outputs": [],
   "source": []
  },
  {
   "cell_type": "code",
   "execution_count": null,
   "metadata": {},
   "outputs": [],
   "source": []
  }
 ],
 "metadata": {
  "kernelspec": {
   "display_name": "Python 3",
   "language": "python",
   "name": "python3"
  },
  "language_info": {
   "codemirror_mode": {
    "name": "ipython",
    "version": 3
   },
   "file_extension": ".py",
   "mimetype": "text/x-python",
   "name": "python",
   "nbconvert_exporter": "python",
   "pygments_lexer": "ipython3",
   "version": "3.8.8"
  }
 },
 "nbformat": 4,
 "nbformat_minor": 4
}
